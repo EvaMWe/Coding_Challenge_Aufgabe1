{
 "cells": [
  {
   "cell_type": "markdown",
   "id": "58903ef8",
   "metadata": {},
   "source": [
    "# *Coding Challenge Data Science*\n",
    "Autorin: Eva-Maria Weiss"
   ]
  },
  {
   "cell_type": "markdown",
   "id": "f6b5168a",
   "metadata": {},
   "source": [
    "# Setup"
   ]
  },
  {
   "cell_type": "markdown",
   "id": "0d333880",
   "metadata": {},
   "source": [
    "### Installation \n",
    "Installation der nicht vorinstallierten Bibliotheken"
   ]
  },
  {
   "cell_type": "code",
   "execution_count": 1,
   "id": "8062fb8f",
   "metadata": {},
   "outputs": [
    {
     "name": "stdout",
     "output_type": "stream",
     "text": [
      "Requirement already satisfied: arff in c:\\program files\\anaconda\\lib\\site-packages (0.9)\n",
      "Requirement already satisfied: statsmodels in c:\\program files\\anaconda\\lib\\site-packages (0.14.0)\n",
      "Requirement already satisfied: numpy>=1.18 in c:\\program files\\anaconda\\lib\\site-packages (from statsmodels) (1.24.3)\n",
      "Requirement already satisfied: scipy!=1.9.2,>=1.4 in c:\\program files\\anaconda\\lib\\site-packages (from statsmodels) (1.13.1)\n",
      "Requirement already satisfied: pandas>=1.0 in c:\\program files\\anaconda\\lib\\site-packages (from statsmodels) (2.0.3)\n",
      "Requirement already satisfied: patsy>=0.5.2 in c:\\program files\\anaconda\\lib\\site-packages (from statsmodels) (0.5.3)\n",
      "Requirement already satisfied: packaging>=21.3 in c:\\program files\\anaconda\\lib\\site-packages (from statsmodels) (23.1)\n",
      "Requirement already satisfied: python-dateutil>=2.8.2 in c:\\program files\\anaconda\\lib\\site-packages (from pandas>=1.0->statsmodels) (2.8.2)\n",
      "Requirement already satisfied: pytz>=2020.1 in c:\\program files\\anaconda\\lib\\site-packages (from pandas>=1.0->statsmodels) (2023.3.post1)\n",
      "Requirement already satisfied: tzdata>=2022.1 in c:\\program files\\anaconda\\lib\\site-packages (from pandas>=1.0->statsmodels) (2023.3)\n",
      "Requirement already satisfied: six in c:\\program files\\anaconda\\lib\\site-packages (from patsy>=0.5.2->statsmodels) (1.16.0)\n",
      "Requirement already satisfied: seaborn in c:\\program files\\anaconda\\lib\\site-packages (0.12.2)\n",
      "Requirement already satisfied: numpy!=1.24.0,>=1.17 in c:\\program files\\anaconda\\lib\\site-packages (from seaborn) (1.24.3)\n",
      "Requirement already satisfied: pandas>=0.25 in c:\\program files\\anaconda\\lib\\site-packages (from seaborn) (2.0.3)\n",
      "Requirement already satisfied: matplotlib!=3.6.1,>=3.1 in c:\\program files\\anaconda\\lib\\site-packages (from seaborn) (3.9.0)\n",
      "Requirement already satisfied: contourpy>=1.0.1 in c:\\program files\\anaconda\\lib\\site-packages (from matplotlib!=3.6.1,>=3.1->seaborn) (1.0.5)\n",
      "Requirement already satisfied: cycler>=0.10 in c:\\program files\\anaconda\\lib\\site-packages (from matplotlib!=3.6.1,>=3.1->seaborn) (0.11.0)\n",
      "Requirement already satisfied: fonttools>=4.22.0 in c:\\program files\\anaconda\\lib\\site-packages (from matplotlib!=3.6.1,>=3.1->seaborn) (4.25.0)\n",
      "Requirement already satisfied: kiwisolver>=1.3.1 in c:\\program files\\anaconda\\lib\\site-packages (from matplotlib!=3.6.1,>=3.1->seaborn) (1.4.4)\n",
      "Requirement already satisfied: packaging>=20.0 in c:\\program files\\anaconda\\lib\\site-packages (from matplotlib!=3.6.1,>=3.1->seaborn) (23.1)\n",
      "Requirement already satisfied: pillow>=8 in c:\\program files\\anaconda\\lib\\site-packages (from matplotlib!=3.6.1,>=3.1->seaborn) (9.4.0)\n",
      "Requirement already satisfied: pyparsing>=2.3.1 in c:\\program files\\anaconda\\lib\\site-packages (from matplotlib!=3.6.1,>=3.1->seaborn) (3.0.9)\n",
      "Requirement already satisfied: python-dateutil>=2.7 in c:\\program files\\anaconda\\lib\\site-packages (from matplotlib!=3.6.1,>=3.1->seaborn) (2.8.2)\n",
      "Requirement already satisfied: pytz>=2020.1 in c:\\program files\\anaconda\\lib\\site-packages (from pandas>=0.25->seaborn) (2023.3.post1)\n",
      "Requirement already satisfied: tzdata>=2022.1 in c:\\program files\\anaconda\\lib\\site-packages (from pandas>=0.25->seaborn) (2023.3)\n",
      "Requirement already satisfied: six>=1.5 in c:\\program files\\anaconda\\lib\\site-packages (from python-dateutil>=2.7->matplotlib!=3.6.1,>=3.1->seaborn) (1.16.0)\n",
      "Requirement already satisfied: scikit-learn in c:\\program files\\anaconda\\lib\\site-packages (1.5.0)\n",
      "Requirement already satisfied: scipy in c:\\program files\\anaconda\\lib\\site-packages (1.13.1)\n",
      "Requirement already satisfied: matplotlib in c:\\program files\\anaconda\\lib\\site-packages (3.9.0)\n",
      "Requirement already satisfied: numpy>=1.19.5 in c:\\program files\\anaconda\\lib\\site-packages (from scikit-learn) (1.24.3)\n",
      "Requirement already satisfied: joblib>=1.2.0 in c:\\program files\\anaconda\\lib\\site-packages (from scikit-learn) (1.2.0)\n",
      "Requirement already satisfied: threadpoolctl>=3.1.0 in c:\\program files\\anaconda\\lib\\site-packages (from scikit-learn) (3.5.0)\n",
      "Requirement already satisfied: contourpy>=1.0.1 in c:\\program files\\anaconda\\lib\\site-packages (from matplotlib) (1.0.5)\n",
      "Requirement already satisfied: cycler>=0.10 in c:\\program files\\anaconda\\lib\\site-packages (from matplotlib) (0.11.0)\n",
      "Requirement already satisfied: fonttools>=4.22.0 in c:\\program files\\anaconda\\lib\\site-packages (from matplotlib) (4.25.0)\n",
      "Requirement already satisfied: kiwisolver>=1.3.1 in c:\\program files\\anaconda\\lib\\site-packages (from matplotlib) (1.4.4)\n",
      "Requirement already satisfied: packaging>=20.0 in c:\\program files\\anaconda\\lib\\site-packages (from matplotlib) (23.1)\n",
      "Requirement already satisfied: pillow>=8 in c:\\program files\\anaconda\\lib\\site-packages (from matplotlib) (9.4.0)\n",
      "Requirement already satisfied: pyparsing>=2.3.1 in c:\\program files\\anaconda\\lib\\site-packages (from matplotlib) (3.0.9)\n",
      "Requirement already satisfied: python-dateutil>=2.7 in c:\\program files\\anaconda\\lib\\site-packages (from matplotlib) (2.8.2)\n",
      "Requirement already satisfied: six>=1.5 in c:\\program files\\anaconda\\lib\\site-packages (from python-dateutil>=2.7->matplotlib) (1.16.0)\n"
     ]
    }
   ],
   "source": [
    "!pip install arff \n",
    "!pip install statsmodels\n",
    "!pip install seaborn\n",
    "!pip3 install -U scikit-learn scipy matplotlib\n",
    "\n"
   ]
  },
  {
   "cell_type": "code",
   "execution_count": 2,
   "id": "174a09dc",
   "metadata": {},
   "outputs": [
    {
     "name": "stdout",
     "output_type": "stream",
     "text": [
      "Requirement already satisfied: imbalanced-learn in c:\\program files\\anaconda\\lib\\site-packages (0.10.1)\n",
      "Requirement already satisfied: numpy>=1.17.3 in c:\\program files\\anaconda\\lib\\site-packages (from imbalanced-learn) (1.24.3)\n",
      "Requirement already satisfied: scipy>=1.3.2 in c:\\program files\\anaconda\\lib\\site-packages (from imbalanced-learn) (1.13.1)\n",
      "Requirement already satisfied: scikit-learn>=1.0.2 in c:\\program files\\anaconda\\lib\\site-packages (from imbalanced-learn) (1.5.0)\n",
      "Requirement already satisfied: joblib>=1.1.1 in c:\\program files\\anaconda\\lib\\site-packages (from imbalanced-learn) (1.2.0)\n",
      "Requirement already satisfied: threadpoolctl>=2.0.0 in c:\\program files\\anaconda\\lib\\site-packages (from imbalanced-learn) (3.5.0)\n"
     ]
    }
   ],
   "source": [
    "!pip install imbalanced-learn"
   ]
  },
  {
   "cell_type": "code",
   "execution_count": 3,
   "id": "471aa710",
   "metadata": {},
   "outputs": [
    {
     "name": "stdout",
     "output_type": "stream",
     "text": [
      "Requirement already satisfied: scikit-learn in c:\\program files\\anaconda\\lib\\site-packages (1.5.0)\n",
      "Requirement already satisfied: numpy>=1.19.5 in c:\\program files\\anaconda\\lib\\site-packages (from scikit-learn) (1.24.3)\n",
      "Requirement already satisfied: scipy>=1.6.0 in c:\\program files\\anaconda\\lib\\site-packages (from scikit-learn) (1.13.1)\n",
      "Requirement already satisfied: joblib>=1.2.0 in c:\\program files\\anaconda\\lib\\site-packages (from scikit-learn) (1.2.0)\n",
      "Requirement already satisfied: threadpoolctl>=3.1.0 in c:\\program files\\anaconda\\lib\\site-packages (from scikit-learn) (3.5.0)\n",
      "Note: you may need to restart the kernel to use updated packages.\n"
     ]
    }
   ],
   "source": [
    "pip install --upgrade scikit-learn"
   ]
  },
  {
   "cell_type": "markdown",
   "id": "ad6bf634",
   "metadata": {},
   "source": [
    "### Importieren der Bibliotheken\n",
    "\n",
    "Für diese Challenge benutze ich folgende Libraries:\n",
    "- `arff` für den Datenimport\n",
    "- `pandas` für das Datenbank-Managing\n",
    "- `numpy` für mathematische Operationen\n",
    "- `sklearn` für machine learning \n",
    "- `seaborn` zum Visualisieren der Daten\n",
    "- `matplotlib` zusätzliche Plotting-Tools (zum Beispiel Subplots)\n",
    "- `stats` für statistische Tests, z.B. Welch Test"
   ]
  },
  {
   "cell_type": "code",
   "execution_count": 4,
   "id": "1aca8b2e",
   "metadata": {},
   "outputs": [],
   "source": [
    "import statsmodels.api as sm\n",
    "import arff  \n",
    "import pandas as pd\n",
    "import numpy as np\n",
    "import seaborn as sns\n",
    "import matplotlib.pyplot as plt\n",
    "from scipy import stats\n",
    "from statsmodels.miscmodels.ordinal_model import OrderedModel\n",
    "from sklearn.metrics import accuracy_score\n",
    "from sklearn.metrics import classification_report\n",
    "from sklearn.pipeline import Pipeline\n",
    "from sklearn.preprocessing import StandardScaler, PolynomialFeatures, MinMaxScaler\n",
    "from sklearn.linear_model import LinearRegression, Ridge, LogisticRegression\n",
    "from sklearn.preprocessing import LabelEncoder\n",
    "from sklearn.metrics import mean_squared_error, r2_score\n",
    "from sklearn.model_selection import cross_val_score, train_test_split"
   ]
  },
  {
   "cell_type": "code",
   "execution_count": 5,
   "id": "25c71907-28d8-4395-b13e-e84229f1d3f5",
   "metadata": {},
   "outputs": [],
   "source": [
    "import statsmodels.discrete.count_model as reg_models"
   ]
  },
  {
   "cell_type": "markdown",
   "id": "687e37ef",
   "metadata": {},
   "source": [
    "# Aufgabe 1: Explorative Datenanalyse"
   ]
  },
  {
   "cell_type": "markdown",
   "id": "d01352af",
   "metadata": {},
   "source": [
    "##  Importieren der Datensätze\n",
    "*nach Anleitung*"
   ]
  },
  {
   "cell_type": "code",
   "execution_count": 6,
   "id": "de307631",
   "metadata": {},
   "outputs": [],
   "source": [
    "data_freq = arff.load('freMTPL2freq.arff') \n",
    "df_freq = pd.DataFrame(data_freq, columns=[\"IDpol\", \"ClaimNb\", \"Exposure\", \"Area\", \"VehPower\", \n",
    "\"VehAge\",\"DrivAge\", \"BonusMalus\", \"VehBrand\", \"VehGas\", \"Density\", \"Region\"]) \n",
    "data_sev = arff.load('freMTPL2sev.arff') \n",
    "df_sev = pd.DataFrame(data_sev, columns=[\"IDpol\", \"ClaimAmount\"]) \n"
   ]
  },
  {
   "cell_type": "markdown",
   "id": "15ce410a",
   "metadata": {},
   "source": [
    "# Aufgabe 1: Datenextraktion (EDA)"
   ]
  },
  {
   "cell_type": "markdown",
   "id": "d157b83d-8f07-49b2-9954-59347e897cc6",
   "metadata": {},
   "source": [
    "## Vertrautmachen mit den Datensätzen"
   ]
  },
  {
   "cell_type": "code",
   "execution_count": 7,
   "id": "a9f623d9",
   "metadata": {},
   "outputs": [
    {
     "data": {
      "text/html": [
       "<div>\n",
       "<style scoped>\n",
       "    .dataframe tbody tr th:only-of-type {\n",
       "        vertical-align: middle;\n",
       "    }\n",
       "\n",
       "    .dataframe tbody tr th {\n",
       "        vertical-align: top;\n",
       "    }\n",
       "\n",
       "    .dataframe thead th {\n",
       "        text-align: right;\n",
       "    }\n",
       "</style>\n",
       "<table border=\"1\" class=\"dataframe\">\n",
       "  <thead>\n",
       "    <tr style=\"text-align: right;\">\n",
       "      <th></th>\n",
       "      <th>IDpol</th>\n",
       "      <th>ClaimNb</th>\n",
       "      <th>Exposure</th>\n",
       "      <th>Area</th>\n",
       "      <th>VehPower</th>\n",
       "      <th>VehAge</th>\n",
       "      <th>DrivAge</th>\n",
       "      <th>BonusMalus</th>\n",
       "      <th>VehBrand</th>\n",
       "      <th>VehGas</th>\n",
       "      <th>Density</th>\n",
       "      <th>Region</th>\n",
       "    </tr>\n",
       "  </thead>\n",
       "  <tbody>\n",
       "    <tr>\n",
       "      <th>0</th>\n",
       "      <td>1.0</td>\n",
       "      <td>1.0</td>\n",
       "      <td>0.10</td>\n",
       "      <td>'D'</td>\n",
       "      <td>5.0</td>\n",
       "      <td>0.0</td>\n",
       "      <td>55.0</td>\n",
       "      <td>50.0</td>\n",
       "      <td>'B12'</td>\n",
       "      <td>Regular</td>\n",
       "      <td>1217.0</td>\n",
       "      <td>'R82'</td>\n",
       "    </tr>\n",
       "    <tr>\n",
       "      <th>1</th>\n",
       "      <td>3.0</td>\n",
       "      <td>1.0</td>\n",
       "      <td>0.77</td>\n",
       "      <td>'D'</td>\n",
       "      <td>5.0</td>\n",
       "      <td>0.0</td>\n",
       "      <td>55.0</td>\n",
       "      <td>50.0</td>\n",
       "      <td>'B12'</td>\n",
       "      <td>Regular</td>\n",
       "      <td>1217.0</td>\n",
       "      <td>'R82'</td>\n",
       "    </tr>\n",
       "    <tr>\n",
       "      <th>2</th>\n",
       "      <td>5.0</td>\n",
       "      <td>1.0</td>\n",
       "      <td>0.75</td>\n",
       "      <td>'B'</td>\n",
       "      <td>6.0</td>\n",
       "      <td>2.0</td>\n",
       "      <td>52.0</td>\n",
       "      <td>50.0</td>\n",
       "      <td>'B12'</td>\n",
       "      <td>Diesel</td>\n",
       "      <td>54.0</td>\n",
       "      <td>'R22'</td>\n",
       "    </tr>\n",
       "    <tr>\n",
       "      <th>3</th>\n",
       "      <td>10.0</td>\n",
       "      <td>1.0</td>\n",
       "      <td>0.09</td>\n",
       "      <td>'B'</td>\n",
       "      <td>7.0</td>\n",
       "      <td>0.0</td>\n",
       "      <td>46.0</td>\n",
       "      <td>50.0</td>\n",
       "      <td>'B12'</td>\n",
       "      <td>Diesel</td>\n",
       "      <td>76.0</td>\n",
       "      <td>'R72'</td>\n",
       "    </tr>\n",
       "    <tr>\n",
       "      <th>4</th>\n",
       "      <td>11.0</td>\n",
       "      <td>1.0</td>\n",
       "      <td>0.84</td>\n",
       "      <td>'B'</td>\n",
       "      <td>7.0</td>\n",
       "      <td>0.0</td>\n",
       "      <td>46.0</td>\n",
       "      <td>50.0</td>\n",
       "      <td>'B12'</td>\n",
       "      <td>Diesel</td>\n",
       "      <td>76.0</td>\n",
       "      <td>'R72'</td>\n",
       "    </tr>\n",
       "  </tbody>\n",
       "</table>\n",
       "</div>"
      ],
      "text/plain": [
       "   IDpol  ClaimNb  Exposure Area  VehPower  VehAge  DrivAge  BonusMalus  \\\n",
       "0    1.0      1.0      0.10  'D'       5.0     0.0     55.0        50.0   \n",
       "1    3.0      1.0      0.77  'D'       5.0     0.0     55.0        50.0   \n",
       "2    5.0      1.0      0.75  'B'       6.0     2.0     52.0        50.0   \n",
       "3   10.0      1.0      0.09  'B'       7.0     0.0     46.0        50.0   \n",
       "4   11.0      1.0      0.84  'B'       7.0     0.0     46.0        50.0   \n",
       "\n",
       "  VehBrand   VehGas  Density Region  \n",
       "0    'B12'  Regular   1217.0  'R82'  \n",
       "1    'B12'  Regular   1217.0  'R82'  \n",
       "2    'B12'   Diesel     54.0  'R22'  \n",
       "3    'B12'   Diesel     76.0  'R72'  \n",
       "4    'B12'   Diesel     76.0  'R72'  "
      ]
     },
     "execution_count": 7,
     "metadata": {},
     "output_type": "execute_result"
    }
   ],
   "source": [
    "df_freq.head(5)"
   ]
  },
  {
   "cell_type": "markdown",
   "id": "c68e6bcb",
   "metadata": {},
   "source": [
    "gibt es 'Null' oder NaN information? <font color='red'>    Nein </font>"
   ]
  },
  {
   "cell_type": "code",
   "execution_count": 8,
   "id": "a06f76f1",
   "metadata": {},
   "outputs": [
    {
     "data": {
      "text/html": [
       "<div>\n",
       "<style scoped>\n",
       "    .dataframe tbody tr th:only-of-type {\n",
       "        vertical-align: middle;\n",
       "    }\n",
       "\n",
       "    .dataframe tbody tr th {\n",
       "        vertical-align: top;\n",
       "    }\n",
       "\n",
       "    .dataframe thead th {\n",
       "        text-align: right;\n",
       "    }\n",
       "</style>\n",
       "<table border=\"1\" class=\"dataframe\">\n",
       "  <thead>\n",
       "    <tr style=\"text-align: right;\">\n",
       "      <th></th>\n",
       "      <th>IDpol</th>\n",
       "      <th>ClaimAmount</th>\n",
       "    </tr>\n",
       "  </thead>\n",
       "  <tbody>\n",
       "    <tr>\n",
       "      <th>0</th>\n",
       "      <td>1552.0</td>\n",
       "      <td>995.20</td>\n",
       "    </tr>\n",
       "    <tr>\n",
       "      <th>1</th>\n",
       "      <td>1010996.0</td>\n",
       "      <td>1128.12</td>\n",
       "    </tr>\n",
       "    <tr>\n",
       "      <th>2</th>\n",
       "      <td>4024277.0</td>\n",
       "      <td>1851.11</td>\n",
       "    </tr>\n",
       "    <tr>\n",
       "      <th>3</th>\n",
       "      <td>4007252.0</td>\n",
       "      <td>1204.00</td>\n",
       "    </tr>\n",
       "    <tr>\n",
       "      <th>4</th>\n",
       "      <td>4046424.0</td>\n",
       "      <td>1204.00</td>\n",
       "    </tr>\n",
       "  </tbody>\n",
       "</table>\n",
       "</div>"
      ],
      "text/plain": [
       "       IDpol  ClaimAmount\n",
       "0     1552.0       995.20\n",
       "1  1010996.0      1128.12\n",
       "2  4024277.0      1851.11\n",
       "3  4007252.0      1204.00\n",
       "4  4046424.0      1204.00"
      ]
     },
     "execution_count": 8,
     "metadata": {},
     "output_type": "execute_result"
    }
   ],
   "source": [
    "df_sev.head()"
   ]
  },
  {
   "cell_type": "code",
   "execution_count": 9,
   "id": "dab5c361",
   "metadata": {},
   "outputs": [
    {
     "name": "stdout",
     "output_type": "stream",
     "text": [
      "<class 'pandas.core.frame.DataFrame'>\n",
      "RangeIndex: 678013 entries, 0 to 678012\n",
      "Data columns (total 12 columns):\n",
      " #   Column      Non-Null Count   Dtype  \n",
      "---  ------      --------------   -----  \n",
      " 0   IDpol       678013 non-null  float64\n",
      " 1   ClaimNb     678013 non-null  float64\n",
      " 2   Exposure    678013 non-null  float64\n",
      " 3   Area        678013 non-null  object \n",
      " 4   VehPower    678013 non-null  float64\n",
      " 5   VehAge      678013 non-null  float64\n",
      " 6   DrivAge     678013 non-null  float64\n",
      " 7   BonusMalus  678013 non-null  float64\n",
      " 8   VehBrand    678013 non-null  object \n",
      " 9   VehGas      678013 non-null  object \n",
      " 10  Density     678013 non-null  float64\n",
      " 11  Region      678013 non-null  object \n",
      "dtypes: float64(8), object(4)\n",
      "memory usage: 62.1+ MB\n"
     ]
    }
   ],
   "source": [
    "df_freq.info()"
   ]
  },
  {
   "cell_type": "code",
   "execution_count": 10,
   "id": "7437fa0d",
   "metadata": {},
   "outputs": [
    {
     "data": {
      "text/html": [
       "<div>\n",
       "<style scoped>\n",
       "    .dataframe tbody tr th:only-of-type {\n",
       "        vertical-align: middle;\n",
       "    }\n",
       "\n",
       "    .dataframe tbody tr th {\n",
       "        vertical-align: top;\n",
       "    }\n",
       "\n",
       "    .dataframe thead th {\n",
       "        text-align: right;\n",
       "    }\n",
       "</style>\n",
       "<table border=\"1\" class=\"dataframe\">\n",
       "  <thead>\n",
       "    <tr style=\"text-align: right;\">\n",
       "      <th></th>\n",
       "      <th>IDpol</th>\n",
       "      <th>ClaimNb</th>\n",
       "      <th>Exposure</th>\n",
       "      <th>VehPower</th>\n",
       "      <th>VehAge</th>\n",
       "      <th>DrivAge</th>\n",
       "      <th>BonusMalus</th>\n",
       "      <th>Density</th>\n",
       "    </tr>\n",
       "  </thead>\n",
       "  <tbody>\n",
       "    <tr>\n",
       "      <th>count</th>\n",
       "      <td>6.780130e+05</td>\n",
       "      <td>678013.000000</td>\n",
       "      <td>678013.000000</td>\n",
       "      <td>678013.000000</td>\n",
       "      <td>678013.000000</td>\n",
       "      <td>678013.000000</td>\n",
       "      <td>678013.000000</td>\n",
       "      <td>678013.000000</td>\n",
       "    </tr>\n",
       "    <tr>\n",
       "      <th>mean</th>\n",
       "      <td>2.621857e+06</td>\n",
       "      <td>0.053247</td>\n",
       "      <td>0.528750</td>\n",
       "      <td>6.454631</td>\n",
       "      <td>7.044265</td>\n",
       "      <td>45.499122</td>\n",
       "      <td>59.761502</td>\n",
       "      <td>1792.422405</td>\n",
       "    </tr>\n",
       "    <tr>\n",
       "      <th>std</th>\n",
       "      <td>1.641783e+06</td>\n",
       "      <td>0.240117</td>\n",
       "      <td>0.364442</td>\n",
       "      <td>2.050906</td>\n",
       "      <td>5.666232</td>\n",
       "      <td>14.137444</td>\n",
       "      <td>15.636658</td>\n",
       "      <td>3958.646564</td>\n",
       "    </tr>\n",
       "    <tr>\n",
       "      <th>min</th>\n",
       "      <td>1.000000e+00</td>\n",
       "      <td>0.000000</td>\n",
       "      <td>0.002732</td>\n",
       "      <td>4.000000</td>\n",
       "      <td>0.000000</td>\n",
       "      <td>18.000000</td>\n",
       "      <td>50.000000</td>\n",
       "      <td>1.000000</td>\n",
       "    </tr>\n",
       "    <tr>\n",
       "      <th>25%</th>\n",
       "      <td>1.157951e+06</td>\n",
       "      <td>0.000000</td>\n",
       "      <td>0.180000</td>\n",
       "      <td>5.000000</td>\n",
       "      <td>2.000000</td>\n",
       "      <td>34.000000</td>\n",
       "      <td>50.000000</td>\n",
       "      <td>92.000000</td>\n",
       "    </tr>\n",
       "    <tr>\n",
       "      <th>50%</th>\n",
       "      <td>2.272152e+06</td>\n",
       "      <td>0.000000</td>\n",
       "      <td>0.490000</td>\n",
       "      <td>6.000000</td>\n",
       "      <td>6.000000</td>\n",
       "      <td>44.000000</td>\n",
       "      <td>50.000000</td>\n",
       "      <td>393.000000</td>\n",
       "    </tr>\n",
       "    <tr>\n",
       "      <th>75%</th>\n",
       "      <td>4.046274e+06</td>\n",
       "      <td>0.000000</td>\n",
       "      <td>0.990000</td>\n",
       "      <td>7.000000</td>\n",
       "      <td>11.000000</td>\n",
       "      <td>55.000000</td>\n",
       "      <td>64.000000</td>\n",
       "      <td>1658.000000</td>\n",
       "    </tr>\n",
       "    <tr>\n",
       "      <th>max</th>\n",
       "      <td>6.114330e+06</td>\n",
       "      <td>16.000000</td>\n",
       "      <td>2.010000</td>\n",
       "      <td>15.000000</td>\n",
       "      <td>100.000000</td>\n",
       "      <td>100.000000</td>\n",
       "      <td>230.000000</td>\n",
       "      <td>27000.000000</td>\n",
       "    </tr>\n",
       "  </tbody>\n",
       "</table>\n",
       "</div>"
      ],
      "text/plain": [
       "              IDpol        ClaimNb       Exposure       VehPower  \\\n",
       "count  6.780130e+05  678013.000000  678013.000000  678013.000000   \n",
       "mean   2.621857e+06       0.053247       0.528750       6.454631   \n",
       "std    1.641783e+06       0.240117       0.364442       2.050906   \n",
       "min    1.000000e+00       0.000000       0.002732       4.000000   \n",
       "25%    1.157951e+06       0.000000       0.180000       5.000000   \n",
       "50%    2.272152e+06       0.000000       0.490000       6.000000   \n",
       "75%    4.046274e+06       0.000000       0.990000       7.000000   \n",
       "max    6.114330e+06      16.000000       2.010000      15.000000   \n",
       "\n",
       "              VehAge        DrivAge     BonusMalus        Density  \n",
       "count  678013.000000  678013.000000  678013.000000  678013.000000  \n",
       "mean        7.044265      45.499122      59.761502    1792.422405  \n",
       "std         5.666232      14.137444      15.636658    3958.646564  \n",
       "min         0.000000      18.000000      50.000000       1.000000  \n",
       "25%         2.000000      34.000000      50.000000      92.000000  \n",
       "50%         6.000000      44.000000      50.000000     393.000000  \n",
       "75%        11.000000      55.000000      64.000000    1658.000000  \n",
       "max       100.000000     100.000000     230.000000   27000.000000  "
      ]
     },
     "execution_count": 10,
     "metadata": {},
     "output_type": "execute_result"
    }
   ],
   "source": [
    "df_freq.describe()"
   ]
  },
  {
   "cell_type": "markdown",
   "id": "5acbb1bd-fee7-4a8c-9e96-0687e97a4f37",
   "metadata": {},
   "source": [
    "<font color='red'> Auffälligkeit1: </font> <span style=\"background:yellow\">Kein Schadensaufwand bei dem größeren Teil (siehe  ClaimNb 75% Quartil) der Versicherten: ein überwiegender Teil der Antworktvariable mit dem Wert  0</span>"
   ]
  },
  {
   "cell_type": "markdown",
   "id": "e34286a1",
   "metadata": {},
   "source": [
    "<font color='red'> Auffälligkeit2: </font> <span style=\"background:yellow\">die abhängige Variable /Antwortvariable muss aus beiden Datensätzen generiert werden</span>\n",
    "\n"
   ]
  },
  {
   "cell_type": "markdown",
   "id": "4663cdf3",
   "metadata": {},
   "source": [
    "### Anbängige Variable in den Datensatz implementieren\n",
    "\n",
    "Die abhängige Variable definiert als *ClaimAmount* / *Exposure*\n",
    "\n",
    "1. *Exposure* aus df_freq\n",
    "\n",
    "2. *ClaimAmount* aus df_sev:\n",
    "    a) groupby von IDpol, da es möglicherweise mehrere Einträge pro Vertrag gibt\n",
    "    b) Series in eine Datenbank formatieren\n",
    "    "
   ]
  },
  {
   "cell_type": "code",
   "execution_count": 11,
   "id": "ee03a931",
   "metadata": {},
   "outputs": [
    {
     "data": {
      "text/html": [
       "<div>\n",
       "<style scoped>\n",
       "    .dataframe tbody tr th:only-of-type {\n",
       "        vertical-align: middle;\n",
       "    }\n",
       "\n",
       "    .dataframe tbody tr th {\n",
       "        vertical-align: top;\n",
       "    }\n",
       "\n",
       "    .dataframe thead th {\n",
       "        text-align: right;\n",
       "    }\n",
       "</style>\n",
       "<table border=\"1\" class=\"dataframe\">\n",
       "  <thead>\n",
       "    <tr style=\"text-align: right;\">\n",
       "      <th></th>\n",
       "      <th>IDpol</th>\n",
       "      <th>ClaimAmount</th>\n",
       "    </tr>\n",
       "  </thead>\n",
       "  <tbody>\n",
       "    <tr>\n",
       "      <th>0</th>\n",
       "      <td>139.0</td>\n",
       "      <td>303.00</td>\n",
       "    </tr>\n",
       "    <tr>\n",
       "      <th>1</th>\n",
       "      <td>190.0</td>\n",
       "      <td>1981.84</td>\n",
       "    </tr>\n",
       "    <tr>\n",
       "      <th>2</th>\n",
       "      <td>414.0</td>\n",
       "      <td>1456.55</td>\n",
       "    </tr>\n",
       "    <tr>\n",
       "      <th>3</th>\n",
       "      <td>424.0</td>\n",
       "      <td>10834.00</td>\n",
       "    </tr>\n",
       "    <tr>\n",
       "      <th>4</th>\n",
       "      <td>463.0</td>\n",
       "      <td>3986.67</td>\n",
       "    </tr>\n",
       "    <tr>\n",
       "      <th>...</th>\n",
       "      <td>...</td>\n",
       "      <td>...</td>\n",
       "    </tr>\n",
       "    <tr>\n",
       "      <th>24945</th>\n",
       "      <td>6113521.0</td>\n",
       "      <td>1324.40</td>\n",
       "    </tr>\n",
       "    <tr>\n",
       "      <th>24946</th>\n",
       "      <td>6113793.0</td>\n",
       "      <td>1769.88</td>\n",
       "    </tr>\n",
       "    <tr>\n",
       "      <th>24947</th>\n",
       "      <td>6113817.0</td>\n",
       "      <td>1288.28</td>\n",
       "    </tr>\n",
       "    <tr>\n",
       "      <th>24948</th>\n",
       "      <td>6113834.0</td>\n",
       "      <td>12230.40</td>\n",
       "    </tr>\n",
       "    <tr>\n",
       "      <th>24949</th>\n",
       "      <td>6113971.0</td>\n",
       "      <td>1452.00</td>\n",
       "    </tr>\n",
       "  </tbody>\n",
       "</table>\n",
       "<p>24950 rows × 2 columns</p>\n",
       "</div>"
      ],
      "text/plain": [
       "           IDpol  ClaimAmount\n",
       "0          139.0       303.00\n",
       "1          190.0      1981.84\n",
       "2          414.0      1456.55\n",
       "3          424.0     10834.00\n",
       "4          463.0      3986.67\n",
       "...          ...          ...\n",
       "24945  6113521.0      1324.40\n",
       "24946  6113793.0      1769.88\n",
       "24947  6113817.0      1288.28\n",
       "24948  6113834.0     12230.40\n",
       "24949  6113971.0      1452.00\n",
       "\n",
       "[24950 rows x 2 columns]"
      ]
     },
     "execution_count": 11,
     "metadata": {},
     "output_type": "execute_result"
    }
   ],
   "source": [
    "# Exp = df_freq[\"Exposure\"]\n",
    "\n",
    "# uniqueID_sev = df_sev['IDpol'].unique()\n",
    "# print(len(uniqueID_sev))\n",
    "\n",
    "Amount = df_sev.groupby(['IDpol'])['ClaimAmount'].sum()\n",
    "# Aus der Series ein df machen, mit automatischen index beginnend bei 0\n",
    "Y = Amount.reset_index()\n",
    "Y.columns = ['IDpol', 'ClaimAmount']\n",
    "Y"
   ]
  },
  {
   "cell_type": "code",
   "execution_count": 12,
   "id": "73105f99",
   "metadata": {},
   "outputs": [
    {
     "data": {
      "text/html": [
       "<div>\n",
       "<style scoped>\n",
       "    .dataframe tbody tr th:only-of-type {\n",
       "        vertical-align: middle;\n",
       "    }\n",
       "\n",
       "    .dataframe tbody tr th {\n",
       "        vertical-align: top;\n",
       "    }\n",
       "\n",
       "    .dataframe thead th {\n",
       "        text-align: right;\n",
       "    }\n",
       "</style>\n",
       "<table border=\"1\" class=\"dataframe\">\n",
       "  <thead>\n",
       "    <tr style=\"text-align: right;\">\n",
       "      <th></th>\n",
       "      <th>IDpol</th>\n",
       "      <th>ClaimNb</th>\n",
       "      <th>Exposure</th>\n",
       "      <th>Area</th>\n",
       "      <th>VehPower</th>\n",
       "      <th>VehAge</th>\n",
       "      <th>DrivAge</th>\n",
       "      <th>BonusMalus</th>\n",
       "      <th>VehBrand</th>\n",
       "      <th>VehGas</th>\n",
       "      <th>Density</th>\n",
       "      <th>Region</th>\n",
       "      <th>ClaimAmount</th>\n",
       "      <th>ClaimAmount_Exp</th>\n",
       "    </tr>\n",
       "  </thead>\n",
       "  <tbody>\n",
       "    <tr>\n",
       "      <th>0</th>\n",
       "      <td>1.0</td>\n",
       "      <td>1.0</td>\n",
       "      <td>0.10</td>\n",
       "      <td>'D'</td>\n",
       "      <td>5.0</td>\n",
       "      <td>0.0</td>\n",
       "      <td>55.0</td>\n",
       "      <td>50.0</td>\n",
       "      <td>'B12'</td>\n",
       "      <td>Regular</td>\n",
       "      <td>1217.0</td>\n",
       "      <td>'R82'</td>\n",
       "      <td>0.0</td>\n",
       "      <td>0.0</td>\n",
       "    </tr>\n",
       "    <tr>\n",
       "      <th>1</th>\n",
       "      <td>3.0</td>\n",
       "      <td>1.0</td>\n",
       "      <td>0.77</td>\n",
       "      <td>'D'</td>\n",
       "      <td>5.0</td>\n",
       "      <td>0.0</td>\n",
       "      <td>55.0</td>\n",
       "      <td>50.0</td>\n",
       "      <td>'B12'</td>\n",
       "      <td>Regular</td>\n",
       "      <td>1217.0</td>\n",
       "      <td>'R82'</td>\n",
       "      <td>0.0</td>\n",
       "      <td>0.0</td>\n",
       "    </tr>\n",
       "    <tr>\n",
       "      <th>2</th>\n",
       "      <td>5.0</td>\n",
       "      <td>1.0</td>\n",
       "      <td>0.75</td>\n",
       "      <td>'B'</td>\n",
       "      <td>6.0</td>\n",
       "      <td>2.0</td>\n",
       "      <td>52.0</td>\n",
       "      <td>50.0</td>\n",
       "      <td>'B12'</td>\n",
       "      <td>Diesel</td>\n",
       "      <td>54.0</td>\n",
       "      <td>'R22'</td>\n",
       "      <td>0.0</td>\n",
       "      <td>0.0</td>\n",
       "    </tr>\n",
       "    <tr>\n",
       "      <th>3</th>\n",
       "      <td>10.0</td>\n",
       "      <td>1.0</td>\n",
       "      <td>0.09</td>\n",
       "      <td>'B'</td>\n",
       "      <td>7.0</td>\n",
       "      <td>0.0</td>\n",
       "      <td>46.0</td>\n",
       "      <td>50.0</td>\n",
       "      <td>'B12'</td>\n",
       "      <td>Diesel</td>\n",
       "      <td>76.0</td>\n",
       "      <td>'R72'</td>\n",
       "      <td>0.0</td>\n",
       "      <td>0.0</td>\n",
       "    </tr>\n",
       "    <tr>\n",
       "      <th>4</th>\n",
       "      <td>11.0</td>\n",
       "      <td>1.0</td>\n",
       "      <td>0.84</td>\n",
       "      <td>'B'</td>\n",
       "      <td>7.0</td>\n",
       "      <td>0.0</td>\n",
       "      <td>46.0</td>\n",
       "      <td>50.0</td>\n",
       "      <td>'B12'</td>\n",
       "      <td>Diesel</td>\n",
       "      <td>76.0</td>\n",
       "      <td>'R72'</td>\n",
       "      <td>0.0</td>\n",
       "      <td>0.0</td>\n",
       "    </tr>\n",
       "  </tbody>\n",
       "</table>\n",
       "</div>"
      ],
      "text/plain": [
       "   IDpol  ClaimNb  Exposure Area  VehPower  VehAge  DrivAge  BonusMalus  \\\n",
       "0    1.0      1.0      0.10  'D'       5.0     0.0     55.0        50.0   \n",
       "1    3.0      1.0      0.77  'D'       5.0     0.0     55.0        50.0   \n",
       "2    5.0      1.0      0.75  'B'       6.0     2.0     52.0        50.0   \n",
       "3   10.0      1.0      0.09  'B'       7.0     0.0     46.0        50.0   \n",
       "4   11.0      1.0      0.84  'B'       7.0     0.0     46.0        50.0   \n",
       "\n",
       "  VehBrand   VehGas  Density Region  ClaimAmount  ClaimAmount_Exp  \n",
       "0    'B12'  Regular   1217.0  'R82'          0.0              0.0  \n",
       "1    'B12'  Regular   1217.0  'R82'          0.0              0.0  \n",
       "2    'B12'   Diesel     54.0  'R22'          0.0              0.0  \n",
       "3    'B12'   Diesel     76.0  'R72'          0.0              0.0  \n",
       "4    'B12'   Diesel     76.0  'R72'          0.0              0.0  "
      ]
     },
     "execution_count": 12,
     "metadata": {},
     "output_type": "execute_result"
    }
   ],
   "source": [
    "df_freq['ClaimAmount'] = 0\n",
    "df_freq['ClaimAmount_Exp'] = 0\n",
    "df_freq['ClaimAmount'] = df_freq['ClaimAmount'].astype(float)\n",
    "df_freq['ClaimAmount_Exp'] = df_freq['ClaimAmount_Exp'].astype(float)\n",
    "df_freq.head()"
   ]
  },
  {
   "cell_type": "code",
   "execution_count": 13,
   "id": "02f1efa2",
   "metadata": {},
   "outputs": [
    {
     "name": "stdout",
     "output_type": "stream",
     "text": [
      "IDpol\n",
      "139.0          303.00\n",
      "190.0         1981.84\n",
      "414.0         1456.55\n",
      "424.0        10834.00\n",
      "463.0         3986.67\n",
      "               ...   \n",
      "6113521.0     1324.40\n",
      "6113793.0     1769.88\n",
      "6113817.0     1288.28\n",
      "6113834.0    12230.40\n",
      "6113971.0     1452.00\n",
      "Name: ClaimAmount, Length: 24950, dtype: float64\n"
     ]
    },
    {
     "data": {
      "text/html": [
       "<div>\n",
       "<style scoped>\n",
       "    .dataframe tbody tr th:only-of-type {\n",
       "        vertical-align: middle;\n",
       "    }\n",
       "\n",
       "    .dataframe tbody tr th {\n",
       "        vertical-align: top;\n",
       "    }\n",
       "\n",
       "    .dataframe thead th {\n",
       "        text-align: right;\n",
       "    }\n",
       "</style>\n",
       "<table border=\"1\" class=\"dataframe\">\n",
       "  <thead>\n",
       "    <tr style=\"text-align: right;\">\n",
       "      <th></th>\n",
       "      <th>IDpol</th>\n",
       "      <th>ClaimNb</th>\n",
       "      <th>Exposure</th>\n",
       "      <th>VehPower</th>\n",
       "      <th>VehAge</th>\n",
       "      <th>DrivAge</th>\n",
       "      <th>BonusMalus</th>\n",
       "      <th>Density</th>\n",
       "      <th>ClaimAmount</th>\n",
       "      <th>ClaimAmount_Exp</th>\n",
       "    </tr>\n",
       "  </thead>\n",
       "  <tbody>\n",
       "    <tr>\n",
       "      <th>count</th>\n",
       "      <td>6.780130e+05</td>\n",
       "      <td>678013.000000</td>\n",
       "      <td>678013.000000</td>\n",
       "      <td>678013.000000</td>\n",
       "      <td>678013.000000</td>\n",
       "      <td>678013.000000</td>\n",
       "      <td>678013.000000</td>\n",
       "      <td>678013.000000</td>\n",
       "      <td>6.780130e+05</td>\n",
       "      <td>678013.0</td>\n",
       "    </tr>\n",
       "    <tr>\n",
       "      <th>mean</th>\n",
       "      <td>2.621857e+06</td>\n",
       "      <td>0.053247</td>\n",
       "      <td>0.528750</td>\n",
       "      <td>6.454631</td>\n",
       "      <td>7.044265</td>\n",
       "      <td>45.499122</td>\n",
       "      <td>59.761502</td>\n",
       "      <td>1792.422405</td>\n",
       "      <td>8.835998e+01</td>\n",
       "      <td>0.0</td>\n",
       "    </tr>\n",
       "    <tr>\n",
       "      <th>std</th>\n",
       "      <td>1.641783e+06</td>\n",
       "      <td>0.240117</td>\n",
       "      <td>0.364442</td>\n",
       "      <td>2.050906</td>\n",
       "      <td>5.666232</td>\n",
       "      <td>14.137444</td>\n",
       "      <td>15.636658</td>\n",
       "      <td>3958.646564</td>\n",
       "      <td>5.822454e+03</td>\n",
       "      <td>0.0</td>\n",
       "    </tr>\n",
       "    <tr>\n",
       "      <th>min</th>\n",
       "      <td>1.000000e+00</td>\n",
       "      <td>0.000000</td>\n",
       "      <td>0.002732</td>\n",
       "      <td>4.000000</td>\n",
       "      <td>0.000000</td>\n",
       "      <td>18.000000</td>\n",
       "      <td>50.000000</td>\n",
       "      <td>1.000000</td>\n",
       "      <td>0.000000e+00</td>\n",
       "      <td>0.0</td>\n",
       "    </tr>\n",
       "    <tr>\n",
       "      <th>25%</th>\n",
       "      <td>1.157951e+06</td>\n",
       "      <td>0.000000</td>\n",
       "      <td>0.180000</td>\n",
       "      <td>5.000000</td>\n",
       "      <td>2.000000</td>\n",
       "      <td>34.000000</td>\n",
       "      <td>50.000000</td>\n",
       "      <td>92.000000</td>\n",
       "      <td>0.000000e+00</td>\n",
       "      <td>0.0</td>\n",
       "    </tr>\n",
       "    <tr>\n",
       "      <th>50%</th>\n",
       "      <td>2.272152e+06</td>\n",
       "      <td>0.000000</td>\n",
       "      <td>0.490000</td>\n",
       "      <td>6.000000</td>\n",
       "      <td>6.000000</td>\n",
       "      <td>44.000000</td>\n",
       "      <td>50.000000</td>\n",
       "      <td>393.000000</td>\n",
       "      <td>0.000000e+00</td>\n",
       "      <td>0.0</td>\n",
       "    </tr>\n",
       "    <tr>\n",
       "      <th>75%</th>\n",
       "      <td>4.046274e+06</td>\n",
       "      <td>0.000000</td>\n",
       "      <td>0.990000</td>\n",
       "      <td>7.000000</td>\n",
       "      <td>11.000000</td>\n",
       "      <td>55.000000</td>\n",
       "      <td>64.000000</td>\n",
       "      <td>1658.000000</td>\n",
       "      <td>0.000000e+00</td>\n",
       "      <td>0.0</td>\n",
       "    </tr>\n",
       "    <tr>\n",
       "      <th>max</th>\n",
       "      <td>6.114330e+06</td>\n",
       "      <td>16.000000</td>\n",
       "      <td>2.010000</td>\n",
       "      <td>15.000000</td>\n",
       "      <td>100.000000</td>\n",
       "      <td>100.000000</td>\n",
       "      <td>230.000000</td>\n",
       "      <td>27000.000000</td>\n",
       "      <td>4.075401e+06</td>\n",
       "      <td>0.0</td>\n",
       "    </tr>\n",
       "  </tbody>\n",
       "</table>\n",
       "</div>"
      ],
      "text/plain": [
       "              IDpol        ClaimNb       Exposure       VehPower  \\\n",
       "count  6.780130e+05  678013.000000  678013.000000  678013.000000   \n",
       "mean   2.621857e+06       0.053247       0.528750       6.454631   \n",
       "std    1.641783e+06       0.240117       0.364442       2.050906   \n",
       "min    1.000000e+00       0.000000       0.002732       4.000000   \n",
       "25%    1.157951e+06       0.000000       0.180000       5.000000   \n",
       "50%    2.272152e+06       0.000000       0.490000       6.000000   \n",
       "75%    4.046274e+06       0.000000       0.990000       7.000000   \n",
       "max    6.114330e+06      16.000000       2.010000      15.000000   \n",
       "\n",
       "              VehAge        DrivAge     BonusMalus        Density  \\\n",
       "count  678013.000000  678013.000000  678013.000000  678013.000000   \n",
       "mean        7.044265      45.499122      59.761502    1792.422405   \n",
       "std         5.666232      14.137444      15.636658    3958.646564   \n",
       "min         0.000000      18.000000      50.000000       1.000000   \n",
       "25%         2.000000      34.000000      50.000000      92.000000   \n",
       "50%         6.000000      44.000000      50.000000     393.000000   \n",
       "75%        11.000000      55.000000      64.000000    1658.000000   \n",
       "max       100.000000     100.000000     230.000000   27000.000000   \n",
       "\n",
       "        ClaimAmount  ClaimAmount_Exp  \n",
       "count  6.780130e+05         678013.0  \n",
       "mean   8.835998e+01              0.0  \n",
       "std    5.822454e+03              0.0  \n",
       "min    0.000000e+00              0.0  \n",
       "25%    0.000000e+00              0.0  \n",
       "50%    0.000000e+00              0.0  \n",
       "75%    0.000000e+00              0.0  \n",
       "max    4.075401e+06              0.0  "
      ]
     },
     "execution_count": 13,
     "metadata": {},
     "output_type": "execute_result"
    }
   ],
   "source": [
    "# fülle ClaimAmount mit den Daten aus Y      \n",
    "claim_amount_map = Y.set_index('IDpol')['ClaimAmount']\n",
    "print(claim_amount_map)\n",
    "df_freq['ClaimAmount'] = df_freq['IDpol'].map(claim_amount_map).fillna(0)\n",
    "df_freq.describe()"
   ]
  },
  {
   "cell_type": "code",
   "execution_count": 14,
   "id": "71c867ad",
   "metadata": {},
   "outputs": [
    {
     "data": {
      "text/html": [
       "<div>\n",
       "<style scoped>\n",
       "    .dataframe tbody tr th:only-of-type {\n",
       "        vertical-align: middle;\n",
       "    }\n",
       "\n",
       "    .dataframe tbody tr th {\n",
       "        vertical-align: top;\n",
       "    }\n",
       "\n",
       "    .dataframe thead th {\n",
       "        text-align: right;\n",
       "    }\n",
       "</style>\n",
       "<table border=\"1\" class=\"dataframe\">\n",
       "  <thead>\n",
       "    <tr style=\"text-align: right;\">\n",
       "      <th></th>\n",
       "      <th>IDpol</th>\n",
       "      <th>ClaimNb</th>\n",
       "      <th>Exposure</th>\n",
       "      <th>VehPower</th>\n",
       "      <th>VehAge</th>\n",
       "      <th>DrivAge</th>\n",
       "      <th>BonusMalus</th>\n",
       "      <th>Density</th>\n",
       "      <th>ClaimAmount</th>\n",
       "      <th>ClaimAmount_Exp</th>\n",
       "    </tr>\n",
       "  </thead>\n",
       "  <tbody>\n",
       "    <tr>\n",
       "      <th>count</th>\n",
       "      <td>6.780130e+05</td>\n",
       "      <td>678013.000000</td>\n",
       "      <td>678013.000000</td>\n",
       "      <td>678013.000000</td>\n",
       "      <td>678013.000000</td>\n",
       "      <td>678013.000000</td>\n",
       "      <td>678013.000000</td>\n",
       "      <td>678013.000000</td>\n",
       "      <td>6.780130e+05</td>\n",
       "      <td>6.780130e+05</td>\n",
       "    </tr>\n",
       "    <tr>\n",
       "      <th>mean</th>\n",
       "      <td>2.621857e+06</td>\n",
       "      <td>0.053247</td>\n",
       "      <td>0.528750</td>\n",
       "      <td>6.454631</td>\n",
       "      <td>7.044265</td>\n",
       "      <td>45.499122</td>\n",
       "      <td>59.761502</td>\n",
       "      <td>1792.422405</td>\n",
       "      <td>8.835998e+01</td>\n",
       "      <td>3.832608e+02</td>\n",
       "    </tr>\n",
       "    <tr>\n",
       "      <th>std</th>\n",
       "      <td>1.641783e+06</td>\n",
       "      <td>0.240117</td>\n",
       "      <td>0.364442</td>\n",
       "      <td>2.050906</td>\n",
       "      <td>5.666232</td>\n",
       "      <td>14.137444</td>\n",
       "      <td>15.636658</td>\n",
       "      <td>3958.646564</td>\n",
       "      <td>5.822454e+03</td>\n",
       "      <td>3.682070e+04</td>\n",
       "    </tr>\n",
       "    <tr>\n",
       "      <th>min</th>\n",
       "      <td>1.000000e+00</td>\n",
       "      <td>0.000000</td>\n",
       "      <td>0.002732</td>\n",
       "      <td>4.000000</td>\n",
       "      <td>0.000000</td>\n",
       "      <td>18.000000</td>\n",
       "      <td>50.000000</td>\n",
       "      <td>1.000000</td>\n",
       "      <td>0.000000e+00</td>\n",
       "      <td>0.000000e+00</td>\n",
       "    </tr>\n",
       "    <tr>\n",
       "      <th>25%</th>\n",
       "      <td>1.157951e+06</td>\n",
       "      <td>0.000000</td>\n",
       "      <td>0.180000</td>\n",
       "      <td>5.000000</td>\n",
       "      <td>2.000000</td>\n",
       "      <td>34.000000</td>\n",
       "      <td>50.000000</td>\n",
       "      <td>92.000000</td>\n",
       "      <td>0.000000e+00</td>\n",
       "      <td>0.000000e+00</td>\n",
       "    </tr>\n",
       "    <tr>\n",
       "      <th>50%</th>\n",
       "      <td>2.272152e+06</td>\n",
       "      <td>0.000000</td>\n",
       "      <td>0.490000</td>\n",
       "      <td>6.000000</td>\n",
       "      <td>6.000000</td>\n",
       "      <td>44.000000</td>\n",
       "      <td>50.000000</td>\n",
       "      <td>393.000000</td>\n",
       "      <td>0.000000e+00</td>\n",
       "      <td>0.000000e+00</td>\n",
       "    </tr>\n",
       "    <tr>\n",
       "      <th>75%</th>\n",
       "      <td>4.046274e+06</td>\n",
       "      <td>0.000000</td>\n",
       "      <td>0.990000</td>\n",
       "      <td>7.000000</td>\n",
       "      <td>11.000000</td>\n",
       "      <td>55.000000</td>\n",
       "      <td>64.000000</td>\n",
       "      <td>1658.000000</td>\n",
       "      <td>0.000000e+00</td>\n",
       "      <td>0.000000e+00</td>\n",
       "    </tr>\n",
       "    <tr>\n",
       "      <th>max</th>\n",
       "      <td>6.114330e+06</td>\n",
       "      <td>16.000000</td>\n",
       "      <td>2.010000</td>\n",
       "      <td>15.000000</td>\n",
       "      <td>100.000000</td>\n",
       "      <td>100.000000</td>\n",
       "      <td>230.000000</td>\n",
       "      <td>27000.000000</td>\n",
       "      <td>4.075401e+06</td>\n",
       "      <td>1.852455e+07</td>\n",
       "    </tr>\n",
       "  </tbody>\n",
       "</table>\n",
       "</div>"
      ],
      "text/plain": [
       "              IDpol        ClaimNb       Exposure       VehPower  \\\n",
       "count  6.780130e+05  678013.000000  678013.000000  678013.000000   \n",
       "mean   2.621857e+06       0.053247       0.528750       6.454631   \n",
       "std    1.641783e+06       0.240117       0.364442       2.050906   \n",
       "min    1.000000e+00       0.000000       0.002732       4.000000   \n",
       "25%    1.157951e+06       0.000000       0.180000       5.000000   \n",
       "50%    2.272152e+06       0.000000       0.490000       6.000000   \n",
       "75%    4.046274e+06       0.000000       0.990000       7.000000   \n",
       "max    6.114330e+06      16.000000       2.010000      15.000000   \n",
       "\n",
       "              VehAge        DrivAge     BonusMalus        Density  \\\n",
       "count  678013.000000  678013.000000  678013.000000  678013.000000   \n",
       "mean        7.044265      45.499122      59.761502    1792.422405   \n",
       "std         5.666232      14.137444      15.636658    3958.646564   \n",
       "min         0.000000      18.000000      50.000000       1.000000   \n",
       "25%         2.000000      34.000000      50.000000      92.000000   \n",
       "50%         6.000000      44.000000      50.000000     393.000000   \n",
       "75%        11.000000      55.000000      64.000000    1658.000000   \n",
       "max       100.000000     100.000000     230.000000   27000.000000   \n",
       "\n",
       "        ClaimAmount  ClaimAmount_Exp  \n",
       "count  6.780130e+05     6.780130e+05  \n",
       "mean   8.835998e+01     3.832608e+02  \n",
       "std    5.822454e+03     3.682070e+04  \n",
       "min    0.000000e+00     0.000000e+00  \n",
       "25%    0.000000e+00     0.000000e+00  \n",
       "50%    0.000000e+00     0.000000e+00  \n",
       "75%    0.000000e+00     0.000000e+00  \n",
       "max    4.075401e+06     1.852455e+07  "
      ]
     },
     "execution_count": 14,
     "metadata": {},
     "output_type": "execute_result"
    }
   ],
   "source": [
    "df_freq['ClaimAmount_Exp'] = df_freq['ClaimAmount'] / df_freq['Exposure']\n",
    "df_freq.describe()"
   ]
  },
  {
   "cell_type": "markdown",
   "id": "b4827358",
   "metadata": {},
   "source": [
    "# Prüfe abhängige Variable (Schadenfallkosten gegenüber Versicherungsdauer)"
   ]
  },
  {
   "cell_type": "code",
   "execution_count": 15,
   "id": "f47b0dc1",
   "metadata": {
    "scrolled": true
   },
   "outputs": [
    {
     "data": {
      "text/plain": [
       "<Axes: xlabel='Exposure', ylabel='ClaimAmount'>"
      ]
     },
     "execution_count": 15,
     "metadata": {},
     "output_type": "execute_result"
    },
    {
     "data": {
      "image/png": "[encoded data removed]",
      "text/plain": [
       "<Figure size 640x480 with 1 Axes>"
      ]
     },
     "metadata": {},
     "output_type": "display_data"
    }
   ],
   "source": [
    "df_cl = df_freq[df_freq[\"ClaimAmount_Exp\"] < 500000]\n",
    "sns.regplot(x=\"Exposure\", y=\"ClaimAmount\", data=df_cl, line_kws={\"color\": \"red\",'lw': 0.5}, scatter_kws={'s':2})\n"
   ]
  },
  {
   "cell_type": "code",
   "execution_count": 16,
   "id": "b8901f94",
   "metadata": {},
   "outputs": [
    {
     "data": {
      "text/plain": [
       "<Axes: xlabel='Exposure', ylabel='ClaimAmount'>"
      ]
     },
     "execution_count": 16,
     "metadata": {},
     "output_type": "execute_result"
    },
    {
     "data": {
      "image/png": "[encoded data removed]",
      "text/plain": [
       "<Figure size 640x480 with 1 Axes>"
      ]
     },
     "metadata": {},
     "output_type": "display_data"
    }
   ],
   "source": [
    "# Datensatz eingegrenzt auf Exposure < 1\n",
    "df_cl = df_cl[df_cl[\"Exposure\"] < 1]\n",
    "\n",
    "# df_noNulls = df_noNulls[df_noNulls[\"VehAge\"] <30]\n",
    "# df_noNulls = df_noNulls[df_noNulls[\"DrivAge\"] <80]\n",
    "# #exclude \"outliers\" that might bias the data set\n",
    "# df_noNulls = df_noNulls[df_noNulls[\"ClaimAmount_Exp\"] < 50000]\n",
    "# #verkleiner den Datensatz\n",
    "# df_noNulls_cl = df_noNulls[[\"ClaimAmount_Exp\",'DrivAge','VehPower','VehAge', 'BonusMalus', 'Density']]\n",
    "# df_noNulls_cl.describe()\n",
    "sns.regplot(x=\"Exposure\", y=\"ClaimAmount\", data=df_cl, line_kws={\"color\": \"red\",'lw': 0.5}, scatter_kws={'s':2})"
   ]
  },
  {
   "cell_type": "markdown",
   "id": "350200b0",
   "metadata": {},
   "source": [
    "## Überprüfe Korrelation zwischen Eingabevariablen und Ausgabevariablen"
   ]
  },
  {
   "cell_type": "markdown",
   "id": "69d40ca7",
   "metadata": {},
   "source": [
    "Attribute identifizieren, die die Schadensaufwendungen am meisten beeinflussen"
   ]
  },
  {
   "cell_type": "code",
   "execution_count": 17,
   "id": "fd589ba9",
   "metadata": {},
   "outputs": [
    {
     "name": "stdout",
     "output_type": "stream",
     "text": [
      "653069 24944\n"
     ]
    }
   ],
   "source": [
    "AnzahlNull = df_freq['ClaimAmount_Exp']\n",
    "AnzahlNull.replace(0, np.nan, inplace=True)\n",
    "AnzahlNullN =AnzahlNull.isnull().sum(axis=0)\n",
    "AnzahlNotNull = len(df_freq)-AnzahlNullN\n",
    "\n",
    "print(AnzahlNullN, AnzahlNotNull)"
   ]
  },
  {
   "cell_type": "code",
   "execution_count": 18,
   "id": "f35101a3",
   "metadata": {},
   "outputs": [
    {
     "data": {
      "text/plain": [
       "<BarContainer object of 2 artists>"
      ]
     },
     "execution_count": 18,
     "metadata": {},
     "output_type": "execute_result"
    },
    {
     "data": {
      "image/png": "[encoded data removed]",
      "text/plain": [
       "<Figure size 640x480 with 1 Axes>"
      ]
     },
     "metadata": {},
     "output_type": "display_data"
    }
   ],
   "source": [
    "heights = [AnzahlNullN, AnzahlNotNull]\n",
    "labels = ['kein Schaden', 'Schaden']\n",
    "plt.bar(labels, heights)"
   ]
  },
  {
   "cell_type": "markdown",
   "id": "6042f998",
   "metadata": {},
   "source": [
    "Trenne den Daten-Satz: aufgrund der vielen Nuller:\n",
    "* binärer Prozess: entweder es gab einen Schadensfall oder nicht (Classifier)\n",
    "* Wenn es Schadensfälle gab gab, wie hoch waren die Kosten in Bezug auf den Versicherungszeitraum"
   ]
  },
  {
   "cell_type": "code",
   "execution_count": 19,
   "id": "68975ac3",
   "metadata": {
    "scrolled": true
   },
   "outputs": [
    {
     "data": {
      "text/html": [
       "<div>\n",
       "<style scoped>\n",
       "    .dataframe tbody tr th:only-of-type {\n",
       "        vertical-align: middle;\n",
       "    }\n",
       "\n",
       "    .dataframe tbody tr th {\n",
       "        vertical-align: top;\n",
       "    }\n",
       "\n",
       "    .dataframe thead th {\n",
       "        text-align: right;\n",
       "    }\n",
       "</style>\n",
       "<table border=\"1\" class=\"dataframe\">\n",
       "  <thead>\n",
       "    <tr style=\"text-align: right;\">\n",
       "      <th></th>\n",
       "      <th>IDpol</th>\n",
       "      <th>ClaimNb</th>\n",
       "      <th>Exposure</th>\n",
       "      <th>VehPower</th>\n",
       "      <th>VehAge</th>\n",
       "      <th>DrivAge</th>\n",
       "      <th>BonusMalus</th>\n",
       "      <th>Density</th>\n",
       "      <th>ClaimAmount</th>\n",
       "      <th>ClaimAmount_Exp</th>\n",
       "    </tr>\n",
       "  </thead>\n",
       "  <tbody>\n",
       "    <tr>\n",
       "      <th>count</th>\n",
       "      <td>1.603500e+04</td>\n",
       "      <td>16035.000000</td>\n",
       "      <td>16035.000000</td>\n",
       "      <td>16035.000000</td>\n",
       "      <td>16035.000000</td>\n",
       "      <td>16035.000000</td>\n",
       "      <td>16035.000000</td>\n",
       "      <td>16035.000000</td>\n",
       "      <td>16035.000000</td>\n",
       "      <td>16035.000000</td>\n",
       "    </tr>\n",
       "    <tr>\n",
       "      <th>mean</th>\n",
       "      <td>2.412778e+06</td>\n",
       "      <td>1.067103</td>\n",
       "      <td>0.524515</td>\n",
       "      <td>6.525974</td>\n",
       "      <td>7.188525</td>\n",
       "      <td>42.970689</td>\n",
       "      <td>66.899969</td>\n",
       "      <td>2149.712878</td>\n",
       "      <td>2097.110889</td>\n",
       "      <td>8033.173507</td>\n",
       "    </tr>\n",
       "    <tr>\n",
       "      <th>std</th>\n",
       "      <td>1.651777e+06</td>\n",
       "      <td>0.321353</td>\n",
       "      <td>0.266756</td>\n",
       "      <td>2.070962</td>\n",
       "      <td>5.279934</td>\n",
       "      <td>14.172792</td>\n",
       "      <td>20.603489</td>\n",
       "      <td>4315.536546</td>\n",
       "      <td>6892.902016</td>\n",
       "      <td>27506.808626</td>\n",
       "    </tr>\n",
       "    <tr>\n",
       "      <th>min</th>\n",
       "      <td>1.390000e+02</td>\n",
       "      <td>1.000000</td>\n",
       "      <td>0.002740</td>\n",
       "      <td>4.000000</td>\n",
       "      <td>0.000000</td>\n",
       "      <td>18.000000</td>\n",
       "      <td>50.000000</td>\n",
       "      <td>2.000000</td>\n",
       "      <td>1.090000</td>\n",
       "      <td>2.426667</td>\n",
       "    </tr>\n",
       "    <tr>\n",
       "      <th>25%</th>\n",
       "      <td>1.104776e+06</td>\n",
       "      <td>1.000000</td>\n",
       "      <td>0.310000</td>\n",
       "      <td>5.000000</td>\n",
       "      <td>2.000000</td>\n",
       "      <td>32.000000</td>\n",
       "      <td>50.000000</td>\n",
       "      <td>130.000000</td>\n",
       "      <td>787.330000</td>\n",
       "      <td>1323.076923</td>\n",
       "    </tr>\n",
       "    <tr>\n",
       "      <th>50%</th>\n",
       "      <td>2.186198e+06</td>\n",
       "      <td>1.000000</td>\n",
       "      <td>0.510000</td>\n",
       "      <td>6.000000</td>\n",
       "      <td>7.000000</td>\n",
       "      <td>43.000000</td>\n",
       "      <td>58.000000</td>\n",
       "      <td>614.000000</td>\n",
       "      <td>1172.000000</td>\n",
       "      <td>2271.618421</td>\n",
       "    </tr>\n",
       "    <tr>\n",
       "      <th>75%</th>\n",
       "      <td>3.243262e+06</td>\n",
       "      <td>1.000000</td>\n",
       "      <td>0.750000</td>\n",
       "      <td>7.000000</td>\n",
       "      <td>11.000000</td>\n",
       "      <td>52.000000</td>\n",
       "      <td>80.000000</td>\n",
       "      <td>2620.000000</td>\n",
       "      <td>1509.505000</td>\n",
       "      <td>5054.295032</td>\n",
       "    </tr>\n",
       "    <tr>\n",
       "      <th>max</th>\n",
       "      <td>6.113971e+06</td>\n",
       "      <td>16.000000</td>\n",
       "      <td>0.990000</td>\n",
       "      <td>15.000000</td>\n",
       "      <td>69.000000</td>\n",
       "      <td>99.000000</td>\n",
       "      <td>228.000000</td>\n",
       "      <td>27000.000000</td>\n",
       "      <td>307096.420000</td>\n",
       "      <td>500000.000000</td>\n",
       "    </tr>\n",
       "  </tbody>\n",
       "</table>\n",
       "</div>"
      ],
      "text/plain": [
       "              IDpol       ClaimNb      Exposure      VehPower        VehAge  \\\n",
       "count  1.603500e+04  16035.000000  16035.000000  16035.000000  16035.000000   \n",
       "mean   2.412778e+06      1.067103      0.524515      6.525974      7.188525   \n",
       "std    1.651777e+06      0.321353      0.266756      2.070962      5.279934   \n",
       "min    1.390000e+02      1.000000      0.002740      4.000000      0.000000   \n",
       "25%    1.104776e+06      1.000000      0.310000      5.000000      2.000000   \n",
       "50%    2.186198e+06      1.000000      0.510000      6.000000      7.000000   \n",
       "75%    3.243262e+06      1.000000      0.750000      7.000000     11.000000   \n",
       "max    6.113971e+06     16.000000      0.990000     15.000000     69.000000   \n",
       "\n",
       "            DrivAge    BonusMalus       Density    ClaimAmount  \\\n",
       "count  16035.000000  16035.000000  16035.000000   16035.000000   \n",
       "mean      42.970689     66.899969   2149.712878    2097.110889   \n",
       "std       14.172792     20.603489   4315.536546    6892.902016   \n",
       "min       18.000000     50.000000      2.000000       1.090000   \n",
       "25%       32.000000     50.000000    130.000000     787.330000   \n",
       "50%       43.000000     58.000000    614.000000    1172.000000   \n",
       "75%       52.000000     80.000000   2620.000000    1509.505000   \n",
       "max       99.000000    228.000000  27000.000000  307096.420000   \n",
       "\n",
       "       ClaimAmount_Exp  \n",
       "count     16035.000000  \n",
       "mean       8033.173507  \n",
       "std       27506.808626  \n",
       "min           2.426667  \n",
       "25%        1323.076923  \n",
       "50%        2271.618421  \n",
       "75%        5054.295032  \n",
       "max      500000.000000  "
      ]
     },
     "execution_count": 19,
     "metadata": {},
     "output_type": "execute_result"
    }
   ],
   "source": [
    "#Datensatz ohne Null-Werte in ClaimAmount_Exp\n",
    "\n",
    "df_noNulls = df_cl\n",
    "df_noNulls = df_noNulls[df_noNulls[\"ClaimAmount_Exp\"] != 0]\n",
    "df_noNulls.describe()"
   ]
  },
  {
   "cell_type": "markdown",
   "id": "b0852a40",
   "metadata": {},
   "source": [
    "## Überprüfung der numerischen  Parameter"
   ]
  },
  {
   "cell_type": "markdown",
   "id": "4b1e227d",
   "metadata": {},
   "source": [
    "### Implementiere  Schadensaufwendungen in Bezug auf Fahrzeugalter"
   ]
  },
  {
   "cell_type": "code",
   "execution_count": 20,
   "id": "f6dddc8f",
   "metadata": {},
   "outputs": [
    {
     "data": {
      "text/plain": [
       "<Axes: xlabel='VehAge', ylabel='ClaimAmount_Exp'>"
      ]
     },
     "execution_count": 20,
     "metadata": {},
     "output_type": "execute_result"
    },
    {
     "data": {
      "image/png": "[encoded data removed]",
      "text/plain": [
       "<Figure size 640x480 with 1 Axes>"
      ]
     },
     "metadata": {},
     "output_type": "display_data"
    }
   ],
   "source": [
    "sns.regplot(x=\"VehAge\", y=\"ClaimAmount_Exp\", data=df_noNulls,line_kws={\"color\": \"red\",'lw': 1}, scatter_kws={'s':2})"
   ]
  },
  {
   "cell_type": "markdown",
   "id": "bd1a6ce0",
   "metadata": {},
   "source": [
    "Bias durch sehr alte Fahrzeuge? "
   ]
  },
  {
   "cell_type": "code",
   "execution_count": 21,
   "id": "5efd39b0",
   "metadata": {},
   "outputs": [
    {
     "name": "stderr",
     "output_type": "stream",
     "text": [
      "C:\\Users\\DaniPC\\AppData\\Local\\Temp\\ipykernel_20964\\2712027810.py:2: UserWarning: Boolean Series key will be reindexed to match DataFrame index.\n",
      "  df_cl_ = df_cl_[df_noNulls[\"ClaimAmount_Exp\"] < 40000]\n"
     ]
    },
    {
     "data": {
      "text/plain": [
       "<Axes: xlabel='VehAge', ylabel='ClaimAmount_Exp'>"
      ]
     },
     "execution_count": 21,
     "metadata": {},
     "output_type": "execute_result"
    },
    {
     "data": {
      "image/png": "[encoded data removed]",
      "text/plain": [
       "<Figure size 640x480 with 1 Axes>"
      ]
     },
     "metadata": {},
     "output_type": "display_data"
    }
   ],
   "source": [
    "df_cl_ = df_noNulls[df_noNulls[\"VehAge\"] < 25]\n",
    "df_cl_ = df_cl_[df_noNulls[\"ClaimAmount_Exp\"] < 40000]\n",
    "sns.regplot(x=\"VehAge\", y=\"ClaimAmount_Exp\", data=df_cl_ ,line_kws={\"color\": \"red\",'lw': 1}, scatter_kws={'s':2})"
   ]
  },
  {
   "cell_type": "markdown",
   "id": "4e9611b9",
   "metadata": {},
   "source": [
    "### Schadensaufwendungen in Bezug auf Fahrzeugleistung"
   ]
  },
  {
   "cell_type": "code",
   "execution_count": 22,
   "id": "84c7f64f",
   "metadata": {},
   "outputs": [
    {
     "data": {
      "text/plain": [
       "<Axes: xlabel='VehPower', ylabel='ClaimAmount_Exp'>"
      ]
     },
     "execution_count": 22,
     "metadata": {},
     "output_type": "execute_result"
    },
    {
     "data": {
      "image/png": "[encoded data removed]",
      "text/plain": [
       "<Figure size 640x480 with 1 Axes>"
      ]
     },
     "metadata": {},
     "output_type": "display_data"
    }
   ],
   "source": [
    "sns.barplot(x=\"VehPower\", y=\"ClaimAmount_Exp\", data=df_noNulls)"
   ]
  },
  {
   "cell_type": "markdown",
   "id": "c9952e67",
   "metadata": {},
   "source": [
    "Für Feature Selektion: keine Korrelation zwischen Fahrzeugleistung und Schadenskosten erkennbar"
   ]
  },
  {
   "cell_type": "markdown",
   "id": "80490f77",
   "metadata": {},
   "source": [
    "### Implementiere einen Regression Plot für Schadensaufwendungen in Bezug auf Alter des Fahrers"
   ]
  },
  {
   "cell_type": "code",
   "execution_count": 23,
   "id": "f2b02e2a",
   "metadata": {},
   "outputs": [
    {
     "data": {
      "text/plain": [
       "<Axes: xlabel='DrivAge', ylabel='ClaimAmount_Exp'>"
      ]
     },
     "execution_count": 23,
     "metadata": {},
     "output_type": "execute_result"
    },
    {
     "data": {
      "image/png": "[encoded data removed]",
      "text/plain": [
       "<Figure size 640x480 with 1 Axes>"
      ]
     },
     "metadata": {},
     "output_type": "display_data"
    }
   ],
   "source": [
    "sns.regplot(x=\"DrivAge\", y=\"ClaimAmount_Exp\", data=df_noNulls, line_kws={\"color\": \"red\",'lw': 1}, scatter_kws={'s':2})\n"
   ]
  },
  {
   "cell_type": "code",
   "execution_count": 24,
   "id": "dfa416df",
   "metadata": {},
   "outputs": [
    {
     "data": {
      "text/plain": [
       "<Axes: xlabel='DrivAge', ylabel='ClaimAmount_Exp'>"
      ]
     },
     "execution_count": 24,
     "metadata": {},
     "output_type": "execute_result"
    },
    {
     "data": {
      "image/png": "[encoded data removed]",
      "text/plain": [
       "<Figure size 640x480 with 1 Axes>"
      ]
     },
     "metadata": {},
     "output_type": "display_data"
    }
   ],
   "source": [
    "df_cl_ = df_noNulls[df_noNulls[\"DrivAge\"] < 70]\n",
    "df_cl_ = df_cl_[df_cl_[\"ClaimAmount_Exp\"] < 40000]\n",
    "sns.regplot(x=\"DrivAge\", y=\"ClaimAmount_Exp\", data=df_cl_, line_kws={\"color\": \"red\",'lw': 1}, scatter_kws={'s':2})"
   ]
  },
  {
   "cell_type": "markdown",
   "id": "e05a6a78",
   "metadata": {},
   "source": [
    "### Implementiere einen Regression Plot für Schadensaufwendungen in Bezug auf Einwohnerdichte"
   ]
  },
  {
   "cell_type": "code",
   "execution_count": 25,
   "id": "db77432c",
   "metadata": {},
   "outputs": [
    {
     "data": {
      "text/plain": [
       "<Axes: xlabel='Density', ylabel='ClaimAmount_Exp'>"
      ]
     },
     "execution_count": 25,
     "metadata": {},
     "output_type": "execute_result"
    },
    {
     "data": {
      "image/png": "[encoded data removed]",
      "text/plain": [
       "<Figure size 640x480 with 1 Axes>"
      ]
     },
     "metadata": {},
     "output_type": "display_data"
    }
   ],
   "source": [
    "sns.regplot(x=\"Density\", y=\"ClaimAmount_Exp\", data=df_noNulls, line_kws={\"color\": \"red\",'lw': 1}, scatter_kws={'s':2})\n"
   ]
  },
  {
   "cell_type": "code",
   "execution_count": 26,
   "id": "e353d2e3",
   "metadata": {},
   "outputs": [
    {
     "name": "stdout",
     "output_type": "stream",
     "text": [
      "R-squared: 0.00\n"
     ]
    }
   ],
   "source": [
    "X = df_noNulls[\"Density\"].values.reshape(-1, 1)\n",
    "Y = df_noNulls[\"ClaimAmount_Exp\"]\n",
    "\n",
    "poly = PolynomialFeatures(degree=2, include_bias=False)\n",
    "poly_features = poly.fit_transform(X)\n",
    "\n",
    "poly_reg_model = LinearRegression()\n",
    "poly_reg_model.fit(poly_features, Y)\n",
    "\n",
    "y_predicted = poly_reg_model.predict(poly_features)\n",
    "\n",
    "# Calculate R-squared\n",
    "r_squared = r2_score(Y, y_predicted)\n",
    "print(f\"R-squared: {r_squared:.2f}\")"
   ]
  },
  {
   "cell_type": "markdown",
   "id": "15358b98",
   "metadata": {},
   "source": [
    "### Implementiere einen Regression Plot für Schadensaufwendungen in Bezug auf Schadenfreiheitsklasse"
   ]
  },
  {
   "cell_type": "code",
   "execution_count": 27,
   "id": "01c3d554",
   "metadata": {},
   "outputs": [
    {
     "data": {
      "text/plain": [
       "<Axes: xlabel='BonusMalus', ylabel='ClaimAmount_Exp'>"
      ]
     },
     "execution_count": 27,
     "metadata": {},
     "output_type": "execute_result"
    },
    {
     "data": {
      "image/png": "[encoded data removed]",
      "text/plain": [
       "<Figure size 640x480 with 1 Axes>"
      ]
     },
     "metadata": {},
     "output_type": "display_data"
    }
   ],
   "source": [
    "sns.regplot(x=\"BonusMalus\", y=\"ClaimAmount_Exp\", data=df_noNulls, line_kws={\"color\": \"red\",'lw': 1}, scatter_kws={'s':2})"
   ]
  },
  {
   "cell_type": "code",
   "execution_count": 28,
   "id": "c425a5bd",
   "metadata": {},
   "outputs": [
    {
     "data": {
      "text/plain": [
       "<Axes: xlabel='BonusMalus', ylabel='ClaimAmount_Exp'>"
      ]
     },
     "execution_count": 28,
     "metadata": {},
     "output_type": "execute_result"
    },
    {
     "data": {
      "image/png": "[encoded data removed]",
      "text/plain": [
       "<Figure size 640x480 with 1 Axes>"
      ]
     },
     "metadata": {},
     "output_type": "display_data"
    }
   ],
   "source": [
    "#df_cl_ = df_noNulls[df_noNulls[\"BonusMalus\"] < 70]\n",
    "df_cl_ = df_cl_[df_cl_[\"ClaimAmount_Exp\"] < 400000]\n",
    "sns.regplot(x=\"BonusMalus\", y=\"ClaimAmount_Exp\", data=df_cl_, line_kws={\"color\": \"red\",'lw': 1}, scatter_kws={'s':2})"
   ]
  },
  {
   "cell_type": "markdown",
   "id": "5d305b07",
   "metadata": {},
   "source": [
    "# Überprüfung der kategorischen Parameter"
   ]
  },
  {
   "cell_type": "code",
   "execution_count": 29,
   "id": "970009b3",
   "metadata": {},
   "outputs": [
    {
     "data": {
      "text/plain": [
       "<Axes: xlabel='VehGas', ylabel='ClaimAmount_Exp'>"
      ]
     },
     "execution_count": 29,
     "metadata": {},
     "output_type": "execute_result"
    },
    {
     "data": {
      "image/png": "[encoded data removed]",
      "text/plain": [
       "<Figure size 1000x1000 with 2 Axes>"
      ]
     },
     "metadata": {},
     "output_type": "display_data"
    }
   ],
   "source": [
    "fig, axes = plt.subplots(1, 2, figsize=(10, 10))\n",
    "\n",
    "sns.barplot(x=\"VehGas\", y=\"ClaimAmount_Exp\", data=df_noNulls, ax=axes[0])\n",
    "sns.barplot(x=\"VehGas\", y=\"ClaimAmount_Exp\", data=df_freq, ax=axes[1])"
   ]
  },
  {
   "cell_type": "code",
   "execution_count": 30,
   "id": "5965dc3b",
   "metadata": {},
   "outputs": [
    {
     "name": "stdout",
     "output_type": "stream",
     "text": [
      "T-Statistik: 2.08589758462735, P-Wert: 0.03700463636434783\n"
     ]
    }
   ],
   "source": [
    "Reg = df_noNulls[df_noNulls[\"VehGas\"] == \"Regular\"]\n",
    "Dies = df_noNulls[df_noNulls[\"VehGas\"] == \"Diesel\"]\n",
    "Reg = Reg[\"ClaimAmount_Exp\"]\n",
    "Dies = Dies[\"ClaimAmount_Exp\"]\n",
    "Reg.head()\n",
    "\n",
    "t_statistic, p_value = stats.ttest_ind(Reg, Dies,equal_var=False)\n",
    "print(f\"T-Statistik: {t_statistic}, P-Wert: {p_value}\")"
   ]
  },
  {
   "cell_type": "code",
   "execution_count": 31,
   "id": "3348197b",
   "metadata": {},
   "outputs": [
    {
     "data": {
      "text/plain": [
       "<Axes: xlabel='Area', ylabel='ClaimAmount_Exp'>"
      ]
     },
     "execution_count": 31,
     "metadata": {},
     "output_type": "execute_result"
    },
    {
     "data": {
      "image/png": "[encoded data removed]",
      "text/plain": [
       "<Figure size 640x480 with 1 Axes>"
      ]
     },
     "metadata": {},
     "output_type": "display_data"
    }
   ],
   "source": [
    "#fig, axes = plt.subplots(1, 2, figsize=(10, 10))\n",
    "sns.barplot(x=\"Area\", y=\"ClaimAmount_Exp\", data=df_noNulls)\n",
    "#sns.barplot(x=\"Area\", y=\"ClaimAmount_Exp\", data=df_freq,ax=axes[1])"
   ]
  },
  {
   "cell_type": "code",
   "execution_count": 32,
   "id": "889072ab",
   "metadata": {},
   "outputs": [
    {
     "data": {
      "text/plain": [
       "<Axes: xlabel='Region', ylabel='ClaimAmount_Exp'>"
      ]
     },
     "execution_count": 32,
     "metadata": {},
     "output_type": "execute_result"
    },
    {
     "data": {
      "image/png": "[encoded data removed]",
      "text/plain": [
       "<Figure size 640x480 with 1 Axes>"
      ]
     },
     "metadata": {},
     "output_type": "display_data"
    }
   ],
   "source": [
    "#fig, axes = plt.subplots(1, 2, figsize=(10, 10))\n",
    "sns.barplot(x=\"Region\", y=\"ClaimAmount_Exp\", data=df_noNulls)\n",
    "#sns.barplot(x=\"Region\", y=\"ClaimAmount_Exp\", data=df_cl,ax=axes[1])"
   ]
  },
  {
   "cell_type": "code",
   "execution_count": 33,
   "id": "d969552c",
   "metadata": {},
   "outputs": [
    {
     "data": {
      "text/plain": [
       "<Axes: xlabel='VehBrand', ylabel='ClaimAmount_Exp'>"
      ]
     },
     "execution_count": 33,
     "metadata": {},
     "output_type": "execute_result"
    },
    {
     "data": {
      "image/png": "[encoded data removed]",
      "text/plain": [
       "<Figure size 640x480 with 1 Axes>"
      ]
     },
     "metadata": {},
     "output_type": "display_data"
    }
   ],
   "source": [
    "#fig, axes = plt.subplots(1, 2, figsize=(10, 10))\n",
    "sns.barplot(x=\"VehBrand\", y=\"ClaimAmount_Exp\", data=df_noNulls)\n",
    "#sns.barplot(x=\"VehBrand\", y=\"ClaimAmount_Exp\", data=df_cl,ax=axes[1])"
   ]
  },
  {
   "cell_type": "markdown",
   "id": "e5c2b928",
   "metadata": {},
   "source": [
    "# Aufgabe 2: Feature Engineering"
   ]
  },
  {
   "cell_type": "markdown",
   "id": "4569ed2e",
   "metadata": {},
   "source": [
    "## Erstellen von Dummy Variablen für Area, VehBrand, Region, VehGas"
   ]
  },
  {
   "cell_type": "code",
   "execution_count": 67,
   "id": "ddf75447",
   "metadata": {},
   "outputs": [],
   "source": [
    "df_cl.reset_index(drop=True, inplace=True)"
   ]
  },
  {
   "cell_type": "code",
   "execution_count": 100,
   "id": "5f6b4a9b",
   "metadata": {},
   "outputs": [
    {
     "name": "stdout",
     "output_type": "stream",
     "text": [
      "<class 'pandas.core.frame.DataFrame'>\n",
      "RangeIndex: 508609 entries, 0 to 508608\n",
      "Data columns (total 14 columns):\n",
      " #   Column           Non-Null Count   Dtype  \n",
      "---  ------           --------------   -----  \n",
      " 0   IDpol            508609 non-null  float64\n",
      " 1   ClaimNb          508609 non-null  float64\n",
      " 2   Exposure         508609 non-null  float64\n",
      " 3   Area             508609 non-null  object \n",
      " 4   VehPower         508609 non-null  float64\n",
      " 5   VehAge           508609 non-null  float64\n",
      " 6   DrivAge          508609 non-null  float64\n",
      " 7   BonusMalus       508609 non-null  float64\n",
      " 8   VehBrand         508609 non-null  object \n",
      " 9   VehGas           508609 non-null  object \n",
      " 10  Density          508609 non-null  float64\n",
      " 11  Region           508609 non-null  object \n",
      " 12  ClaimAmount      508609 non-null  float64\n",
      " 13  ClaimAmount_Exp  508609 non-null  float64\n",
      "dtypes: float64(10), object(4)\n",
      "memory usage: 54.3+ MB\n"
     ]
    }
   ],
   "source": [
    "#label_encoder = LabelEncoder()\n",
    "#df_cl['Area_kodiert'] = label_encoder.fit_transform(df_cl['Area'])\n",
    "dummies = pd.get_dummies(df_cl['Area'], drop_first=True)\n",
    "dummies = dummies.astype(int)\n",
    "\n",
    "# Fügen Sie die Dummy-Variablen zum ursprünglichen DataFrame hinzu\n",
    "df_cl_cat = pd.concat([df_cl, dummies], axis=1)\n",
    "df_cl_cat.drop('Area', axis=1, inplace=True)\n",
    "df_cl.info()"
   ]
  },
  {
   "cell_type": "code",
   "execution_count": 101,
   "id": "3297f07a",
   "metadata": {},
   "outputs": [
    {
     "name": "stdout",
     "output_type": "stream",
     "text": [
      "<class 'pandas.core.frame.DataFrame'>\n",
      "RangeIndex: 508609 entries, 0 to 508608\n",
      "Data columns (total 18 columns):\n",
      " #   Column           Non-Null Count   Dtype  \n",
      "---  ------           --------------   -----  \n",
      " 0   IDpol            508609 non-null  float64\n",
      " 1   ClaimNb          508609 non-null  float64\n",
      " 2   Exposure         508609 non-null  float64\n",
      " 3   VehPower         508609 non-null  float64\n",
      " 4   VehAge           508609 non-null  float64\n",
      " 5   DrivAge          508609 non-null  float64\n",
      " 6   BonusMalus       508609 non-null  float64\n",
      " 7   VehBrand         508609 non-null  object \n",
      " 8   Density          508609 non-null  float64\n",
      " 9   Region           508609 non-null  object \n",
      " 10  ClaimAmount      508609 non-null  float64\n",
      " 11  ClaimAmount_Exp  508609 non-null  float64\n",
      " 12  'B'              508609 non-null  int32  \n",
      " 13  'C'              508609 non-null  int32  \n",
      " 14  'D'              508609 non-null  int32  \n",
      " 15  'E'              508609 non-null  int32  \n",
      " 16  'F'              508609 non-null  int32  \n",
      " 17  Regular          508609 non-null  int32  \n",
      "dtypes: float64(10), int32(6), object(2)\n",
      "memory usage: 58.2+ MB\n"
     ]
    }
   ],
   "source": [
    "#label_encoder = LabelEncoder()\n",
    "#df_cl['Gas_kodiert'] = label_encoder.fit_transform(df_cl['VehGas'])\n",
    "dummies = pd.get_dummies(df_cl['VehGas'], drop_first=True)\n",
    "dummies = dummies.astype(int)\n",
    "\n",
    "# Fügen Sie die Dummy-Variablen zum ursprünglichen DataFrame hinzu\n",
    "df_cl_cat = pd.concat([df_cl_cat, dummies], axis=1)\n",
    "df_cl_cat.drop('VehGas', axis=1, inplace=True)\n",
    "df_cl_cat.info()"
   ]
  },
  {
   "cell_type": "code",
   "execution_count": 102,
   "id": "ec394a4b",
   "metadata": {},
   "outputs": [
    {
     "data": {
      "text/html": [
       "<div>\n",
       "<style scoped>\n",
       "    .dataframe tbody tr th:only-of-type {\n",
       "        vertical-align: middle;\n",
       "    }\n",
       "\n",
       "    .dataframe tbody tr th {\n",
       "        vertical-align: top;\n",
       "    }\n",
       "\n",
       "    .dataframe thead th {\n",
       "        text-align: right;\n",
       "    }\n",
       "</style>\n",
       "<table border=\"1\" class=\"dataframe\">\n",
       "  <thead>\n",
       "    <tr style=\"text-align: right;\">\n",
       "      <th></th>\n",
       "      <th>IDpol</th>\n",
       "      <th>ClaimNb</th>\n",
       "      <th>Exposure</th>\n",
       "      <th>VehPower</th>\n",
       "      <th>VehAge</th>\n",
       "      <th>DrivAge</th>\n",
       "      <th>BonusMalus</th>\n",
       "      <th>Density</th>\n",
       "      <th>Region</th>\n",
       "      <th>ClaimAmount</th>\n",
       "      <th>...</th>\n",
       "      <th>'B10'</th>\n",
       "      <th>'B11'</th>\n",
       "      <th>'B12'</th>\n",
       "      <th>'B13'</th>\n",
       "      <th>'B14'</th>\n",
       "      <th>'B2'</th>\n",
       "      <th>'B3'</th>\n",
       "      <th>'B4'</th>\n",
       "      <th>'B5'</th>\n",
       "      <th>'B6'</th>\n",
       "    </tr>\n",
       "  </thead>\n",
       "  <tbody>\n",
       "    <tr>\n",
       "      <th>0</th>\n",
       "      <td>1.0</td>\n",
       "      <td>1.0</td>\n",
       "      <td>0.10</td>\n",
       "      <td>5.0</td>\n",
       "      <td>0.0</td>\n",
       "      <td>55.0</td>\n",
       "      <td>50.0</td>\n",
       "      <td>1217.0</td>\n",
       "      <td>'R82'</td>\n",
       "      <td>0.0</td>\n",
       "      <td>...</td>\n",
       "      <td>0</td>\n",
       "      <td>0</td>\n",
       "      <td>1</td>\n",
       "      <td>0</td>\n",
       "      <td>0</td>\n",
       "      <td>0</td>\n",
       "      <td>0</td>\n",
       "      <td>0</td>\n",
       "      <td>0</td>\n",
       "      <td>0</td>\n",
       "    </tr>\n",
       "    <tr>\n",
       "      <th>1</th>\n",
       "      <td>3.0</td>\n",
       "      <td>1.0</td>\n",
       "      <td>0.77</td>\n",
       "      <td>5.0</td>\n",
       "      <td>0.0</td>\n",
       "      <td>55.0</td>\n",
       "      <td>50.0</td>\n",
       "      <td>1217.0</td>\n",
       "      <td>'R82'</td>\n",
       "      <td>0.0</td>\n",
       "      <td>...</td>\n",
       "      <td>0</td>\n",
       "      <td>0</td>\n",
       "      <td>1</td>\n",
       "      <td>0</td>\n",
       "      <td>0</td>\n",
       "      <td>0</td>\n",
       "      <td>0</td>\n",
       "      <td>0</td>\n",
       "      <td>0</td>\n",
       "      <td>0</td>\n",
       "    </tr>\n",
       "    <tr>\n",
       "      <th>2</th>\n",
       "      <td>5.0</td>\n",
       "      <td>1.0</td>\n",
       "      <td>0.75</td>\n",
       "      <td>6.0</td>\n",
       "      <td>2.0</td>\n",
       "      <td>52.0</td>\n",
       "      <td>50.0</td>\n",
       "      <td>54.0</td>\n",
       "      <td>'R22'</td>\n",
       "      <td>0.0</td>\n",
       "      <td>...</td>\n",
       "      <td>0</td>\n",
       "      <td>0</td>\n",
       "      <td>1</td>\n",
       "      <td>0</td>\n",
       "      <td>0</td>\n",
       "      <td>0</td>\n",
       "      <td>0</td>\n",
       "      <td>0</td>\n",
       "      <td>0</td>\n",
       "      <td>0</td>\n",
       "    </tr>\n",
       "    <tr>\n",
       "      <th>3</th>\n",
       "      <td>10.0</td>\n",
       "      <td>1.0</td>\n",
       "      <td>0.09</td>\n",
       "      <td>7.0</td>\n",
       "      <td>0.0</td>\n",
       "      <td>46.0</td>\n",
       "      <td>50.0</td>\n",
       "      <td>76.0</td>\n",
       "      <td>'R72'</td>\n",
       "      <td>0.0</td>\n",
       "      <td>...</td>\n",
       "      <td>0</td>\n",
       "      <td>0</td>\n",
       "      <td>1</td>\n",
       "      <td>0</td>\n",
       "      <td>0</td>\n",
       "      <td>0</td>\n",
       "      <td>0</td>\n",
       "      <td>0</td>\n",
       "      <td>0</td>\n",
       "      <td>0</td>\n",
       "    </tr>\n",
       "    <tr>\n",
       "      <th>4</th>\n",
       "      <td>11.0</td>\n",
       "      <td>1.0</td>\n",
       "      <td>0.84</td>\n",
       "      <td>7.0</td>\n",
       "      <td>0.0</td>\n",
       "      <td>46.0</td>\n",
       "      <td>50.0</td>\n",
       "      <td>76.0</td>\n",
       "      <td>'R72'</td>\n",
       "      <td>0.0</td>\n",
       "      <td>...</td>\n",
       "      <td>0</td>\n",
       "      <td>0</td>\n",
       "      <td>1</td>\n",
       "      <td>0</td>\n",
       "      <td>0</td>\n",
       "      <td>0</td>\n",
       "      <td>0</td>\n",
       "      <td>0</td>\n",
       "      <td>0</td>\n",
       "      <td>0</td>\n",
       "    </tr>\n",
       "  </tbody>\n",
       "</table>\n",
       "<p>5 rows × 27 columns</p>\n",
       "</div>"
      ],
      "text/plain": [
       "   IDpol  ClaimNb  Exposure  VehPower  VehAge  DrivAge  BonusMalus  Density  \\\n",
       "0    1.0      1.0      0.10       5.0     0.0     55.0        50.0   1217.0   \n",
       "1    3.0      1.0      0.77       5.0     0.0     55.0        50.0   1217.0   \n",
       "2    5.0      1.0      0.75       6.0     2.0     52.0        50.0     54.0   \n",
       "3   10.0      1.0      0.09       7.0     0.0     46.0        50.0     76.0   \n",
       "4   11.0      1.0      0.84       7.0     0.0     46.0        50.0     76.0   \n",
       "\n",
       "  Region  ClaimAmount  ...  'B10'  'B11'  'B12'  'B13'  'B14'  'B2'  'B3'  \\\n",
       "0  'R82'          0.0  ...      0      0      1      0      0     0     0   \n",
       "1  'R82'          0.0  ...      0      0      1      0      0     0     0   \n",
       "2  'R22'          0.0  ...      0      0      1      0      0     0     0   \n",
       "3  'R72'          0.0  ...      0      0      1      0      0     0     0   \n",
       "4  'R72'          0.0  ...      0      0      1      0      0     0     0   \n",
       "\n",
       "   'B4'  'B5'  'B6'  \n",
       "0     0     0     0  \n",
       "1     0     0     0  \n",
       "2     0     0     0  \n",
       "3     0     0     0  \n",
       "4     0     0     0  \n",
       "\n",
       "[5 rows x 27 columns]"
      ]
     },
     "execution_count": 102,
     "metadata": {},
     "output_type": "execute_result"
    }
   ],
   "source": [
    "#label_encoder = LabelEncoder()\n",
    "#df_cl['Brand_kodiert'] = label_encoder.fit_transform(df_cl['VehBrand'])\n",
    "dummies = pd.get_dummies(df_cl['VehBrand'], drop_first=True)\n",
    "dummies = dummies.astype(int)\n",
    "\n",
    "# Fügen Sie die Dummy-Variablen zum ursprünglichen DataFrame hinzu\n",
    "df_cl_cat = pd.concat([df_cl_cat, dummies], axis=1)\n",
    "df_cl_cat.drop('VehBrand', axis=1, inplace=True)\n",
    "df_cl_cat.head()"
   ]
  },
  {
   "cell_type": "code",
   "execution_count": 103,
   "id": "144e386b",
   "metadata": {},
   "outputs": [
    {
     "data": {
      "text/html": [
       "<div>\n",
       "<style scoped>\n",
       "    .dataframe tbody tr th:only-of-type {\n",
       "        vertical-align: middle;\n",
       "    }\n",
       "\n",
       "    .dataframe tbody tr th {\n",
       "        vertical-align: top;\n",
       "    }\n",
       "\n",
       "    .dataframe thead th {\n",
       "        text-align: right;\n",
       "    }\n",
       "</style>\n",
       "<table border=\"1\" class=\"dataframe\">\n",
       "  <thead>\n",
       "    <tr style=\"text-align: right;\">\n",
       "      <th></th>\n",
       "      <th>IDpol</th>\n",
       "      <th>ClaimNb</th>\n",
       "      <th>Exposure</th>\n",
       "      <th>VehPower</th>\n",
       "      <th>VehAge</th>\n",
       "      <th>DrivAge</th>\n",
       "      <th>BonusMalus</th>\n",
       "      <th>Density</th>\n",
       "      <th>ClaimAmount</th>\n",
       "      <th>ClaimAmount_Exp</th>\n",
       "      <th>...</th>\n",
       "      <th>'R53'</th>\n",
       "      <th>'R54'</th>\n",
       "      <th>'R72'</th>\n",
       "      <th>'R73'</th>\n",
       "      <th>'R74'</th>\n",
       "      <th>'R82'</th>\n",
       "      <th>'R83'</th>\n",
       "      <th>'R91'</th>\n",
       "      <th>'R93'</th>\n",
       "      <th>'R94'</th>\n",
       "    </tr>\n",
       "  </thead>\n",
       "  <tbody>\n",
       "    <tr>\n",
       "      <th>0</th>\n",
       "      <td>1.0</td>\n",
       "      <td>1.0</td>\n",
       "      <td>0.10</td>\n",
       "      <td>5.0</td>\n",
       "      <td>0.0</td>\n",
       "      <td>55.0</td>\n",
       "      <td>50.0</td>\n",
       "      <td>1217.0</td>\n",
       "      <td>0.0</td>\n",
       "      <td>0.0</td>\n",
       "      <td>...</td>\n",
       "      <td>0</td>\n",
       "      <td>0</td>\n",
       "      <td>0</td>\n",
       "      <td>0</td>\n",
       "      <td>0</td>\n",
       "      <td>1</td>\n",
       "      <td>0</td>\n",
       "      <td>0</td>\n",
       "      <td>0</td>\n",
       "      <td>0</td>\n",
       "    </tr>\n",
       "    <tr>\n",
       "      <th>1</th>\n",
       "      <td>3.0</td>\n",
       "      <td>1.0</td>\n",
       "      <td>0.77</td>\n",
       "      <td>5.0</td>\n",
       "      <td>0.0</td>\n",
       "      <td>55.0</td>\n",
       "      <td>50.0</td>\n",
       "      <td>1217.0</td>\n",
       "      <td>0.0</td>\n",
       "      <td>0.0</td>\n",
       "      <td>...</td>\n",
       "      <td>0</td>\n",
       "      <td>0</td>\n",
       "      <td>0</td>\n",
       "      <td>0</td>\n",
       "      <td>0</td>\n",
       "      <td>1</td>\n",
       "      <td>0</td>\n",
       "      <td>0</td>\n",
       "      <td>0</td>\n",
       "      <td>0</td>\n",
       "    </tr>\n",
       "    <tr>\n",
       "      <th>2</th>\n",
       "      <td>5.0</td>\n",
       "      <td>1.0</td>\n",
       "      <td>0.75</td>\n",
       "      <td>6.0</td>\n",
       "      <td>2.0</td>\n",
       "      <td>52.0</td>\n",
       "      <td>50.0</td>\n",
       "      <td>54.0</td>\n",
       "      <td>0.0</td>\n",
       "      <td>0.0</td>\n",
       "      <td>...</td>\n",
       "      <td>0</td>\n",
       "      <td>0</td>\n",
       "      <td>0</td>\n",
       "      <td>0</td>\n",
       "      <td>0</td>\n",
       "      <td>0</td>\n",
       "      <td>0</td>\n",
       "      <td>0</td>\n",
       "      <td>0</td>\n",
       "      <td>0</td>\n",
       "    </tr>\n",
       "    <tr>\n",
       "      <th>3</th>\n",
       "      <td>10.0</td>\n",
       "      <td>1.0</td>\n",
       "      <td>0.09</td>\n",
       "      <td>7.0</td>\n",
       "      <td>0.0</td>\n",
       "      <td>46.0</td>\n",
       "      <td>50.0</td>\n",
       "      <td>76.0</td>\n",
       "      <td>0.0</td>\n",
       "      <td>0.0</td>\n",
       "      <td>...</td>\n",
       "      <td>0</td>\n",
       "      <td>0</td>\n",
       "      <td>1</td>\n",
       "      <td>0</td>\n",
       "      <td>0</td>\n",
       "      <td>0</td>\n",
       "      <td>0</td>\n",
       "      <td>0</td>\n",
       "      <td>0</td>\n",
       "      <td>0</td>\n",
       "    </tr>\n",
       "    <tr>\n",
       "      <th>4</th>\n",
       "      <td>11.0</td>\n",
       "      <td>1.0</td>\n",
       "      <td>0.84</td>\n",
       "      <td>7.0</td>\n",
       "      <td>0.0</td>\n",
       "      <td>46.0</td>\n",
       "      <td>50.0</td>\n",
       "      <td>76.0</td>\n",
       "      <td>0.0</td>\n",
       "      <td>0.0</td>\n",
       "      <td>...</td>\n",
       "      <td>0</td>\n",
       "      <td>0</td>\n",
       "      <td>1</td>\n",
       "      <td>0</td>\n",
       "      <td>0</td>\n",
       "      <td>0</td>\n",
       "      <td>0</td>\n",
       "      <td>0</td>\n",
       "      <td>0</td>\n",
       "      <td>0</td>\n",
       "    </tr>\n",
       "  </tbody>\n",
       "</table>\n",
       "<p>5 rows × 47 columns</p>\n",
       "</div>"
      ],
      "text/plain": [
       "   IDpol  ClaimNb  Exposure  VehPower  VehAge  DrivAge  BonusMalus  Density  \\\n",
       "0    1.0      1.0      0.10       5.0     0.0     55.0        50.0   1217.0   \n",
       "1    3.0      1.0      0.77       5.0     0.0     55.0        50.0   1217.0   \n",
       "2    5.0      1.0      0.75       6.0     2.0     52.0        50.0     54.0   \n",
       "3   10.0      1.0      0.09       7.0     0.0     46.0        50.0     76.0   \n",
       "4   11.0      1.0      0.84       7.0     0.0     46.0        50.0     76.0   \n",
       "\n",
       "   ClaimAmount  ClaimAmount_Exp  ...  'R53'  'R54'  'R72'  'R73'  'R74'  \\\n",
       "0          0.0              0.0  ...      0      0      0      0      0   \n",
       "1          0.0              0.0  ...      0      0      0      0      0   \n",
       "2          0.0              0.0  ...      0      0      0      0      0   \n",
       "3          0.0              0.0  ...      0      0      1      0      0   \n",
       "4          0.0              0.0  ...      0      0      1      0      0   \n",
       "\n",
       "   'R82'  'R83'  'R91'  'R93'  'R94'  \n",
       "0      1      0      0      0      0  \n",
       "1      1      0      0      0      0  \n",
       "2      0      0      0      0      0  \n",
       "3      0      0      0      0      0  \n",
       "4      0      0      0      0      0  \n",
       "\n",
       "[5 rows x 47 columns]"
      ]
     },
     "execution_count": 103,
     "metadata": {},
     "output_type": "execute_result"
    }
   ],
   "source": [
    "#label_encoder = LabelEncoder()\n",
    "#df_cl_cat['Region_kodiert'] = label_encoder.fit_transform(df_cl['Region'])\n",
    "dummies = pd.get_dummies(df_cl['Region'], drop_first=True)\n",
    "dummies = dummies.astype(int)\n",
    "# Fügen Sie die Dummy-Variablen zum ursprünglichen DataFrame hinzu\n",
    "df_cl_cat = pd.concat([df_cl_cat, dummies], axis=1)\n",
    "df_cl_cat.drop('Region', axis=1, inplace=True)\n",
    "df_cl_cat.head()"
   ]
  },
  {
   "cell_type": "code",
   "execution_count": 104,
   "id": "9c68a350",
   "metadata": {},
   "outputs": [
    {
     "name": "stdout",
     "output_type": "stream",
     "text": [
      "<class 'pandas.core.frame.DataFrame'>\n",
      "RangeIndex: 508609 entries, 0 to 508608\n",
      "Data columns (total 47 columns):\n",
      " #   Column           Non-Null Count   Dtype  \n",
      "---  ------           --------------   -----  \n",
      " 0   IDpol            508609 non-null  float64\n",
      " 1   ClaimNb          508609 non-null  float64\n",
      " 2   Exposure         508609 non-null  float64\n",
      " 3   VehPower         508609 non-null  float64\n",
      " 4   VehAge           508609 non-null  float64\n",
      " 5   DrivAge          508609 non-null  float64\n",
      " 6   BonusMalus       508609 non-null  float64\n",
      " 7   Density          508609 non-null  float64\n",
      " 8   ClaimAmount      508609 non-null  float64\n",
      " 9   ClaimAmount_Exp  508609 non-null  float64\n",
      " 10  'B'              508609 non-null  int32  \n",
      " 11  'C'              508609 non-null  int32  \n",
      " 12  'D'              508609 non-null  int32  \n",
      " 13  'E'              508609 non-null  int32  \n",
      " 14  'F'              508609 non-null  int32  \n",
      " 15  Regular          508609 non-null  int32  \n",
      " 16  'B10'            508609 non-null  int32  \n",
      " 17  'B11'            508609 non-null  int32  \n",
      " 18  'B12'            508609 non-null  int32  \n",
      " 19  'B13'            508609 non-null  int32  \n",
      " 20  'B14'            508609 non-null  int32  \n",
      " 21  'B2'             508609 non-null  int32  \n",
      " 22  'B3'             508609 non-null  int32  \n",
      " 23  'B4'             508609 non-null  int32  \n",
      " 24  'B5'             508609 non-null  int32  \n",
      " 25  'B6'             508609 non-null  int32  \n",
      " 26  'R21'            508609 non-null  int32  \n",
      " 27  'R22'            508609 non-null  int32  \n",
      " 28  'R23'            508609 non-null  int32  \n",
      " 29  'R24'            508609 non-null  int32  \n",
      " 30  'R25'            508609 non-null  int32  \n",
      " 31  'R26'            508609 non-null  int32  \n",
      " 32  'R31'            508609 non-null  int32  \n",
      " 33  'R41'            508609 non-null  int32  \n",
      " 34  'R42'            508609 non-null  int32  \n",
      " 35  'R43'            508609 non-null  int32  \n",
      " 36  'R52'            508609 non-null  int32  \n",
      " 37  'R53'            508609 non-null  int32  \n",
      " 38  'R54'            508609 non-null  int32  \n",
      " 39  'R72'            508609 non-null  int32  \n",
      " 40  'R73'            508609 non-null  int32  \n",
      " 41  'R74'            508609 non-null  int32  \n",
      " 42  'R82'            508609 non-null  int32  \n",
      " 43  'R83'            508609 non-null  int32  \n",
      " 44  'R91'            508609 non-null  int32  \n",
      " 45  'R93'            508609 non-null  int32  \n",
      " 46  'R94'            508609 non-null  int32  \n",
      "dtypes: float64(10), int32(37)\n",
      "memory usage: 110.6 MB\n"
     ]
    }
   ],
   "source": [
    "df_cl_cat.info()"
   ]
  },
  {
   "cell_type": "code",
   "execution_count": 105,
   "id": "fcc9c146",
   "metadata": {},
   "outputs": [],
   "source": [
    "#entferne für die Modellierung nicht relecante Spalten\n",
    "df_cl_short = df_cl_cat.drop(columns=['ClaimNb', 'Exposure', 'VehPower', 'VehAge'], axis = 1)\n"
   ]
  },
  {
   "cell_type": "code",
   "execution_count": 106,
   "id": "7b9b70ec",
   "metadata": {},
   "outputs": [
    {
     "name": "stdout",
     "output_type": "stream",
     "text": [
      "<class 'pandas.core.frame.DataFrame'>\n",
      "RangeIndex: 508609 entries, 0 to 508608\n",
      "Data columns (total 43 columns):\n",
      " #   Column           Non-Null Count   Dtype  \n",
      "---  ------           --------------   -----  \n",
      " 0   IDpol            508609 non-null  float64\n",
      " 1   DrivAge          508609 non-null  float64\n",
      " 2   BonusMalus       508609 non-null  float64\n",
      " 3   Density          508609 non-null  float64\n",
      " 4   ClaimAmount      508609 non-null  float64\n",
      " 5   ClaimAmount_Exp  508609 non-null  float64\n",
      " 6   'B'              508609 non-null  int32  \n",
      " 7   'C'              508609 non-null  int32  \n",
      " 8   'D'              508609 non-null  int32  \n",
      " 9   'E'              508609 non-null  int32  \n",
      " 10  'F'              508609 non-null  int32  \n",
      " 11  Regular          508609 non-null  int32  \n",
      " 12  'B10'            508609 non-null  int32  \n",
      " 13  'B11'            508609 non-null  int32  \n",
      " 14  'B12'            508609 non-null  int32  \n",
      " 15  'B13'            508609 non-null  int32  \n",
      " 16  'B14'            508609 non-null  int32  \n",
      " 17  'B2'             508609 non-null  int32  \n",
      " 18  'B3'             508609 non-null  int32  \n",
      " 19  'B4'             508609 non-null  int32  \n",
      " 20  'B5'             508609 non-null  int32  \n",
      " 21  'B6'             508609 non-null  int32  \n",
      " 22  'R21'            508609 non-null  int32  \n",
      " 23  'R22'            508609 non-null  int32  \n",
      " 24  'R23'            508609 non-null  int32  \n",
      " 25  'R24'            508609 non-null  int32  \n",
      " 26  'R25'            508609 non-null  int32  \n",
      " 27  'R26'            508609 non-null  int32  \n",
      " 28  'R31'            508609 non-null  int32  \n",
      " 29  'R41'            508609 non-null  int32  \n",
      " 30  'R42'            508609 non-null  int32  \n",
      " 31  'R43'            508609 non-null  int32  \n",
      " 32  'R52'            508609 non-null  int32  \n",
      " 33  'R53'            508609 non-null  int32  \n",
      " 34  'R54'            508609 non-null  int32  \n",
      " 35  'R72'            508609 non-null  int32  \n",
      " 36  'R73'            508609 non-null  int32  \n",
      " 37  'R74'            508609 non-null  int32  \n",
      " 38  'R82'            508609 non-null  int32  \n",
      " 39  'R83'            508609 non-null  int32  \n",
      " 40  'R91'            508609 non-null  int32  \n",
      " 41  'R93'            508609 non-null  int32  \n",
      " 42  'R94'            508609 non-null  int32  \n",
      "dtypes: float64(6), int32(37)\n",
      "memory usage: 95.1 MB\n"
     ]
    }
   ],
   "source": [
    "df_cl_short.info()"
   ]
  },
  {
   "cell_type": "markdown",
   "id": "6e47bc87",
   "metadata": {},
   "source": [
    "## Binning der abhängigen Variablen im noNull Datensatz"
   ]
  },
  {
   "cell_type": "code",
   "execution_count": 107,
   "id": "8a332df4",
   "metadata": {},
   "outputs": [
    {
     "name": "stdout",
     "output_type": "stream",
     "text": [
      "<class 'pandas.core.frame.DataFrame'>\n",
      "RangeIndex: 16035 entries, 0 to 16034\n",
      "Data columns (total 43 columns):\n",
      " #   Column           Non-Null Count  Dtype  \n",
      "---  ------           --------------  -----  \n",
      " 0   IDpol            16035 non-null  float64\n",
      " 1   DrivAge          16035 non-null  float64\n",
      " 2   BonusMalus       16035 non-null  float64\n",
      " 3   Density          16035 non-null  float64\n",
      " 4   ClaimAmount      16035 non-null  float64\n",
      " 5   ClaimAmount_Exp  16035 non-null  float64\n",
      " 6   'B'              16035 non-null  int32  \n",
      " 7   'C'              16035 non-null  int32  \n",
      " 8   'D'              16035 non-null  int32  \n",
      " 9   'E'              16035 non-null  int32  \n",
      " 10  'F'              16035 non-null  int32  \n",
      " 11  Regular          16035 non-null  int32  \n",
      " 12  'B10'            16035 non-null  int32  \n",
      " 13  'B11'            16035 non-null  int32  \n",
      " 14  'B12'            16035 non-null  int32  \n",
      " 15  'B13'            16035 non-null  int32  \n",
      " 16  'B14'            16035 non-null  int32  \n",
      " 17  'B2'             16035 non-null  int32  \n",
      " 18  'B3'             16035 non-null  int32  \n",
      " 19  'B4'             16035 non-null  int32  \n",
      " 20  'B5'             16035 non-null  int32  \n",
      " 21  'B6'             16035 non-null  int32  \n",
      " 22  'R21'            16035 non-null  int32  \n",
      " 23  'R22'            16035 non-null  int32  \n",
      " 24  'R23'            16035 non-null  int32  \n",
      " 25  'R24'            16035 non-null  int32  \n",
      " 26  'R25'            16035 non-null  int32  \n",
      " 27  'R26'            16035 non-null  int32  \n",
      " 28  'R31'            16035 non-null  int32  \n",
      " 29  'R41'            16035 non-null  int32  \n",
      " 30  'R42'            16035 non-null  int32  \n",
      " 31  'R43'            16035 non-null  int32  \n",
      " 32  'R52'            16035 non-null  int32  \n",
      " 33  'R53'            16035 non-null  int32  \n",
      " 34  'R54'            16035 non-null  int32  \n",
      " 35  'R72'            16035 non-null  int32  \n",
      " 36  'R73'            16035 non-null  int32  \n",
      " 37  'R74'            16035 non-null  int32  \n",
      " 38  'R82'            16035 non-null  int32  \n",
      " 39  'R83'            16035 non-null  int32  \n",
      " 40  'R91'            16035 non-null  int32  \n",
      " 41  'R93'            16035 non-null  int32  \n",
      " 42  'R94'            16035 non-null  int32  \n",
      "dtypes: float64(6), int32(37)\n",
      "memory usage: 3.0 MB\n"
     ]
    }
   ],
   "source": [
    "df_noNulls_cl = df_cl_short\n",
    "df_noNulls_cl = df_noNulls_cl[df_noNulls_cl[\"ClaimAmount_Exp\"] != 0]\n",
    "\n",
    "df_noNulls_cl.reset_index(drop=True, inplace=True)\n",
    "df_noNulls_cl.info()"
   ]
  },
  {
   "cell_type": "code",
   "execution_count": 108,
   "id": "43fc4f97",
   "metadata": {},
   "outputs": [
    {
     "name": "stderr",
     "output_type": "stream",
     "text": [
      "C:\\Users\\DaniPC\\AppData\\Local\\Temp\\ipykernel_20964\\882731022.py:1: SettingWithCopyWarning: \n",
      "A value is trying to be set on a copy of a slice from a DataFrame.\n",
      "Try using .loc[row_indexer,col_indexer] = value instead\n",
      "\n",
      "See the caveats in the documentation: https://pandas.pydata.org/pandas-docs/stable/user_guide/indexing.html#returning-a-view-versus-a-copy\n",
      "  df_noNulls_cl['ClEx_cat'] = pd.qcut(df_noNulls_cl['ClaimAmount_Exp'], q=5, labels=['1', '2', '3', '4', '5'])\n"
     ]
    }
   ],
   "source": [
    "df_noNulls_cl['ClEx_cat'] = pd.qcut(df_noNulls_cl['ClaimAmount_Exp'], q=5, labels=['1', '2', '3', '4', '5'])"
   ]
  },
  {
   "cell_type": "code",
   "execution_count": 109,
   "id": "3ad29277",
   "metadata": {},
   "outputs": [
    {
     "name": "stdout",
     "output_type": "stream",
     "text": [
      "<class 'pandas.core.frame.DataFrame'>\n",
      "RangeIndex: 16035 entries, 0 to 16034\n",
      "Data columns (total 44 columns):\n",
      " #   Column           Non-Null Count  Dtype   \n",
      "---  ------           --------------  -----   \n",
      " 0   IDpol            16035 non-null  float64 \n",
      " 1   DrivAge          16035 non-null  float64 \n",
      " 2   BonusMalus       16035 non-null  float64 \n",
      " 3   Density          16035 non-null  float64 \n",
      " 4   ClaimAmount      16035 non-null  float64 \n",
      " 5   ClaimAmount_Exp  16035 non-null  float64 \n",
      " 6   'B'              16035 non-null  int32   \n",
      " 7   'C'              16035 non-null  int32   \n",
      " 8   'D'              16035 non-null  int32   \n",
      " 9   'E'              16035 non-null  int32   \n",
      " 10  'F'              16035 non-null  int32   \n",
      " 11  Regular          16035 non-null  int32   \n",
      " 12  'B10'            16035 non-null  int32   \n",
      " 13  'B11'            16035 non-null  int32   \n",
      " 14  'B12'            16035 non-null  int32   \n",
      " 15  'B13'            16035 non-null  int32   \n",
      " 16  'B14'            16035 non-null  int32   \n",
      " 17  'B2'             16035 non-null  int32   \n",
      " 18  'B3'             16035 non-null  int32   \n",
      " 19  'B4'             16035 non-null  int32   \n",
      " 20  'B5'             16035 non-null  int32   \n",
      " 21  'B6'             16035 non-null  int32   \n",
      " 22  'R21'            16035 non-null  int32   \n",
      " 23  'R22'            16035 non-null  int32   \n",
      " 24  'R23'            16035 non-null  int32   \n",
      " 25  'R24'            16035 non-null  int32   \n",
      " 26  'R25'            16035 non-null  int32   \n",
      " 27  'R26'            16035 non-null  int32   \n",
      " 28  'R31'            16035 non-null  int32   \n",
      " 29  'R41'            16035 non-null  int32   \n",
      " 30  'R42'            16035 non-null  int32   \n",
      " 31  'R43'            16035 non-null  int32   \n",
      " 32  'R52'            16035 non-null  int32   \n",
      " 33  'R53'            16035 non-null  int32   \n",
      " 34  'R54'            16035 non-null  int32   \n",
      " 35  'R72'            16035 non-null  int32   \n",
      " 36  'R73'            16035 non-null  int32   \n",
      " 37  'R74'            16035 non-null  int32   \n",
      " 38  'R82'            16035 non-null  int32   \n",
      " 39  'R83'            16035 non-null  int32   \n",
      " 40  'R91'            16035 non-null  int32   \n",
      " 41  'R93'            16035 non-null  int32   \n",
      " 42  'R94'            16035 non-null  int32   \n",
      " 43  ClEx_cat         16035 non-null  category\n",
      "dtypes: category(1), float64(6), int32(37)\n",
      "memory usage: 3.0 MB\n"
     ]
    }
   ],
   "source": [
    "df_noNulls_cl.info()"
   ]
  },
  {
   "cell_type": "markdown",
   "id": "8cd66141",
   "metadata": {},
   "source": [
    "## Datensatz für Logistische Regression: Verwandle numerische Antwortvariable in Binär"
   ]
  },
  {
   "cell_type": "code",
   "execution_count": 45,
   "id": "2a1bcf03",
   "metadata": {},
   "outputs": [],
   "source": [
    "#Erstelle Datensatz für die logistic regression\n",
    "# ersetze Werte durch 1 (Binärer Datensatz)\n",
    "\n",
    "df_Bin = df_cl_short\n",
    "for i in range(len(df_Bin)):\n",
    "    df_Bin['ClaimAmount_Exp'] = np.where(df_Bin['ClaimAmount_Exp'] > 0, 1, 0)   "
   ]
  },
  {
   "cell_type": "code",
   "execution_count": 49,
   "id": "f5e2e221",
   "metadata": {},
   "outputs": [],
   "source": [
    "df_Bin['ClaimAmount_Exp'] = df_Bin['ClaimAmount_Exp'].astype(bool)"
   ]
  },
  {
   "cell_type": "code",
   "execution_count": 50,
   "id": "11b807cb",
   "metadata": {},
   "outputs": [
    {
     "name": "stdout",
     "output_type": "stream",
     "text": [
      "<class 'pandas.core.frame.DataFrame'>\n",
      "RangeIndex: 508609 entries, 0 to 508608\n",
      "Data columns (total 43 columns):\n",
      " #   Column           Non-Null Count   Dtype  \n",
      "---  ------           --------------   -----  \n",
      " 0   IDpol            508609 non-null  float64\n",
      " 1   DrivAge          508609 non-null  float64\n",
      " 2   BonusMalus       508609 non-null  float64\n",
      " 3   Density          508609 non-null  float64\n",
      " 4   ClaimAmount      508609 non-null  float64\n",
      " 5   ClaimAmount_Exp  508609 non-null  bool   \n",
      " 6   'B'              508609 non-null  bool   \n",
      " 7   'C'              508609 non-null  bool   \n",
      " 8   'D'              508609 non-null  bool   \n",
      " 9   'E'              508609 non-null  bool   \n",
      " 10  'F'              508609 non-null  bool   \n",
      " 11  Regular          508609 non-null  bool   \n",
      " 12  'B10'            508609 non-null  bool   \n",
      " 13  'B11'            508609 non-null  bool   \n",
      " 14  'B12'            508609 non-null  bool   \n",
      " 15  'B13'            508609 non-null  bool   \n",
      " 16  'B14'            508609 non-null  bool   \n",
      " 17  'B2'             508609 non-null  bool   \n",
      " 18  'B3'             508609 non-null  bool   \n",
      " 19  'B4'             508609 non-null  bool   \n",
      " 20  'B5'             508609 non-null  bool   \n",
      " 21  'B6'             508609 non-null  bool   \n",
      " 22  'R21'            508609 non-null  bool   \n",
      " 23  'R22'            508609 non-null  bool   \n",
      " 24  'R23'            508609 non-null  bool   \n",
      " 25  'R24'            508609 non-null  bool   \n",
      " 26  'R25'            508609 non-null  bool   \n",
      " 27  'R26'            508609 non-null  bool   \n",
      " 28  'R31'            508609 non-null  bool   \n",
      " 29  'R41'            508609 non-null  bool   \n",
      " 30  'R42'            508609 non-null  bool   \n",
      " 31  'R43'            508609 non-null  bool   \n",
      " 32  'R52'            508609 non-null  bool   \n",
      " 33  'R53'            508609 non-null  bool   \n",
      " 34  'R54'            508609 non-null  bool   \n",
      " 35  'R72'            508609 non-null  bool   \n",
      " 36  'R73'            508609 non-null  bool   \n",
      " 37  'R74'            508609 non-null  bool   \n",
      " 38  'R82'            508609 non-null  bool   \n",
      " 39  'R83'            508609 non-null  bool   \n",
      " 40  'R91'            508609 non-null  bool   \n",
      " 41  'R93'            508609 non-null  bool   \n",
      " 42  'R94'            508609 non-null  bool   \n",
      "dtypes: bool(38), float64(5)\n",
      "memory usage: 37.8 MB\n"
     ]
    }
   ],
   "source": [
    "df_Bin.info()"
   ]
  },
  {
   "cell_type": "markdown",
   "id": "f197869f",
   "metadata": {},
   "source": [
    "## Standardisieren der Parameter "
   ]
  },
  {
   "cell_type": "markdown",
   "id": "4ad5766c",
   "metadata": {},
   "source": [
    "### für das logistische Modell"
   ]
  },
  {
   "cell_type": "code",
   "execution_count": 52,
   "id": "1b4c792a",
   "metadata": {},
   "outputs": [],
   "source": [
    "# logistic model\n",
    "Y_logi = df_Bin['ClaimAmount_Exp']\n",
    "#nicht relevante und numerische Spalten entfernen\n",
    "X_logi = df_Bin.drop(columns = ['ClaimAmount_Exp', 'IDpol', 'ClaimAmount','DrivAge', 'BonusMalus', 'Density' ], axis = 1)\n",
    "#numerische Werte standardisieren\n",
    "X_Stand = df_Bin[['DrivAge', 'BonusMalus', 'Density']]\n",
    "\n",
    "sc = MinMaxScaler(feature_range = (0, 1)) \n",
    "X_Stand_sc = sc.fit_transform(X_Stand)\n",
    "X_df = pd.DataFrame(X_Stand_sc, columns=['DrivAge', 'BonusMalus', 'Density'])\n",
    "\n",
    "X_logi_ = pd.concat([X_logi, X_df], axis=1)"
   ]
  },
  {
   "cell_type": "code",
   "execution_count": null,
   "id": "b5692f39",
   "metadata": {},
   "outputs": [],
   "source": [
    "X_logi_\n",
    "X_logi_.info()\n"
   ]
  },
  {
   "cell_type": "markdown",
   "id": "f7e0644f",
   "metadata": {},
   "source": [
    "### für das Regressionsmodell"
   ]
  },
  {
   "cell_type": "code",
   "execution_count": 112,
   "id": "134d5658",
   "metadata": {},
   "outputs": [],
   "source": [
    "Y_reg = df_noNulls_cl['ClEx_cat']\n",
    "\n",
    "X_reg = df_noNulls_cl.drop(columns = ['ClaimAmount_Exp', 'IDpol', 'ClaimAmount','ClEx_cat','DrivAge', 'BonusMalus', 'Density'], axis = 1)\n",
    "X_reg_st = df_noNulls_cl[['DrivAge', 'BonusMalus', 'Density']]\n",
    "\n",
    "sc = MinMaxScaler(feature_range = (0, 1)) \n",
    "X_reg_st = sc.fit_transform(X_reg_st)\n",
    "X_df = pd.DataFrame(X_reg_st, columns=['DrivAge', 'BonusMalus', 'Density'])\n",
    "\n",
    "X_reg_ = pd.concat([X_reg, X_df], axis=1)\n"
   ]
  },
  {
   "cell_type": "code",
   "execution_count": 113,
   "id": "5bbc38b4",
   "metadata": {},
   "outputs": [
    {
     "name": "stdout",
     "output_type": "stream",
     "text": [
      "<class 'pandas.core.frame.DataFrame'>\n",
      "RangeIndex: 16035 entries, 0 to 16034\n",
      "Data columns (total 40 columns):\n",
      " #   Column      Non-Null Count  Dtype  \n",
      "---  ------      --------------  -----  \n",
      " 0   'B'         16035 non-null  int32  \n",
      " 1   'C'         16035 non-null  int32  \n",
      " 2   'D'         16035 non-null  int32  \n",
      " 3   'E'         16035 non-null  int32  \n",
      " 4   'F'         16035 non-null  int32  \n",
      " 5   Regular     16035 non-null  int32  \n",
      " 6   'B10'       16035 non-null  int32  \n",
      " 7   'B11'       16035 non-null  int32  \n",
      " 8   'B12'       16035 non-null  int32  \n",
      " 9   'B13'       16035 non-null  int32  \n",
      " 10  'B14'       16035 non-null  int32  \n",
      " 11  'B2'        16035 non-null  int32  \n",
      " 12  'B3'        16035 non-null  int32  \n",
      " 13  'B4'        16035 non-null  int32  \n",
      " 14  'B5'        16035 non-null  int32  \n",
      " 15  'B6'        16035 non-null  int32  \n",
      " 16  'R21'       16035 non-null  int32  \n",
      " 17  'R22'       16035 non-null  int32  \n",
      " 18  'R23'       16035 non-null  int32  \n",
      " 19  'R24'       16035 non-null  int32  \n",
      " 20  'R25'       16035 non-null  int32  \n",
      " 21  'R26'       16035 non-null  int32  \n",
      " 22  'R31'       16035 non-null  int32  \n",
      " 23  'R41'       16035 non-null  int32  \n",
      " 24  'R42'       16035 non-null  int32  \n",
      " 25  'R43'       16035 non-null  int32  \n",
      " 26  'R52'       16035 non-null  int32  \n",
      " 27  'R53'       16035 non-null  int32  \n",
      " 28  'R54'       16035 non-null  int32  \n",
      " 29  'R72'       16035 non-null  int32  \n",
      " 30  'R73'       16035 non-null  int32  \n",
      " 31  'R74'       16035 non-null  int32  \n",
      " 32  'R82'       16035 non-null  int32  \n",
      " 33  'R83'       16035 non-null  int32  \n",
      " 34  'R91'       16035 non-null  int32  \n",
      " 35  'R93'       16035 non-null  int32  \n",
      " 36  'R94'       16035 non-null  int32  \n",
      " 37  DrivAge     16035 non-null  float64\n",
      " 38  BonusMalus  16035 non-null  float64\n",
      " 39  Density     16035 non-null  float64\n",
      "dtypes: float64(3), int32(37)\n",
      "memory usage: 2.6 MB\n"
     ]
    }
   ],
   "source": [
    "X_reg_.info()"
   ]
  },
  {
   "cell_type": "markdown",
   "id": "7a6b18a1",
   "metadata": {},
   "source": [
    "# Modell Auswahl"
   ]
  },
  {
   "cell_type": "markdown",
   "id": "1c9be29f",
   "metadata": {},
   "source": [
    "Statistische Modelle, insbesondere lineare Modelle, setzen einen zu einem gewissen Grad voraus, dass die Daten normal \n",
    "verteilt sind.<br>\n",
    "In dem vorliegenden Datensatz verursachen der Überhang an 0ern in der Antwortvariable eine starke Schiefe in der Verteilung.\n",
    "Derartige Verteilungen sind häufig bei der Analyse zusammengesetzter Variablen wie z. B. Versicherungsansprüchen zu beobachten, bei denen ein großer Teil der Werte Null ist, während der Anteil der Werte, die nicht Null sind, eine eigene Verteilung annimmt. Wenn wir diese Art von Verteilungen in ihre Bestandteile zerlegen, können wir die einzelnen Teile effizienter modellieren und sie später wieder zusammensetzen.\n"
   ]
  },
  {
   "cell_type": "code",
   "execution_count": 55,
   "id": "55adcb13",
   "metadata": {},
   "outputs": [],
   "source": [
    "Y_ = df_cl_short['ClaimAmount_Exp']\n",
    "X_ = df_cl_short.drop(columns = ['ClaimAmount_Exp', 'IDpol', 'ClaimAmount'], axis = 1)\n",
    "\n",
    "sc = StandardScaler()\n",
    "X_sc = sc.fit_transform(X_)"
   ]
  },
  {
   "cell_type": "code",
   "execution_count": 56,
   "id": "cc7393ae",
   "metadata": {},
   "outputs": [
    {
     "name": "stdout",
     "output_type": "stream",
     "text": [
      "0.006047317791171181\n"
     ]
    }
   ],
   "source": [
    "\n",
    "lm = LinearRegression()\n",
    "lm.fit(X_sc,Y_)\n",
    "print(lm.score(X_sc, Y_))"
   ]
  },
  {
   "cell_type": "code",
   "execution_count": 57,
   "id": "58b33497",
   "metadata": {},
   "outputs": [
    {
     "ename": "KeyboardInterrupt",
     "evalue": "",
     "output_type": "error",
     "traceback": [
      "\u001b[1;31m---------------------------------------------------------------------------\u001b[0m",
      "\u001b[1;31mKeyboardInterrupt\u001b[0m                         Traceback (most recent call last)",
      "Cell \u001b[1;32mIn[57], line 5\u001b[0m\n\u001b[0;32m      2\u001b[0m poly_features \u001b[38;5;241m=\u001b[39m poly\u001b[38;5;241m.\u001b[39mfit_transform(X_sc)\n\u001b[0;32m      4\u001b[0m poly_reg_model \u001b[38;5;241m=\u001b[39m LinearRegression()\n\u001b[1;32m----> 5\u001b[0m poly_reg_model\u001b[38;5;241m.\u001b[39mfit(poly_features, Y_)\n\u001b[0;32m      7\u001b[0m y_predicted \u001b[38;5;241m=\u001b[39m poly_reg_model\u001b[38;5;241m.\u001b[39mpredict(poly_features)\n\u001b[0;32m      9\u001b[0m \u001b[38;5;66;03m# Calculate R-squared\u001b[39;00m\n",
      "File \u001b[1;32mC:\\Program Files\\Anaconda\\Lib\\site-packages\\sklearn\\base.py:1473\u001b[0m, in \u001b[0;36m_fit_context.<locals>.decorator.<locals>.wrapper\u001b[1;34m(estimator, *args, **kwargs)\u001b[0m\n\u001b[0;32m   1466\u001b[0m     estimator\u001b[38;5;241m.\u001b[39m_validate_params()\n\u001b[0;32m   1468\u001b[0m \u001b[38;5;28;01mwith\u001b[39;00m config_context(\n\u001b[0;32m   1469\u001b[0m     skip_parameter_validation\u001b[38;5;241m=\u001b[39m(\n\u001b[0;32m   1470\u001b[0m         prefer_skip_nested_validation \u001b[38;5;129;01mor\u001b[39;00m global_skip_validation\n\u001b[0;32m   1471\u001b[0m     )\n\u001b[0;32m   1472\u001b[0m ):\n\u001b[1;32m-> 1473\u001b[0m     \u001b[38;5;28;01mreturn\u001b[39;00m fit_method(estimator, \u001b[38;5;241m*\u001b[39margs, \u001b[38;5;241m*\u001b[39m\u001b[38;5;241m*\u001b[39mkwargs)\n",
      "File \u001b[1;32mC:\\Program Files\\Anaconda\\Lib\\site-packages\\sklearn\\linear_model\\_base.py:687\u001b[0m, in \u001b[0;36mLinearRegression.fit\u001b[1;34m(self, X, y, sample_weight)\u001b[0m\n\u001b[0;32m    685\u001b[0m \u001b[38;5;28;01mif\u001b[39;00m y\u001b[38;5;241m.\u001b[39mndim \u001b[38;5;241m==\u001b[39m \u001b[38;5;241m1\u001b[39m:\n\u001b[0;32m    686\u001b[0m     \u001b[38;5;28mself\u001b[39m\u001b[38;5;241m.\u001b[39mcoef_ \u001b[38;5;241m=\u001b[39m np\u001b[38;5;241m.\u001b[39mravel(\u001b[38;5;28mself\u001b[39m\u001b[38;5;241m.\u001b[39mcoef_)\n\u001b[1;32m--> 687\u001b[0m \u001b[38;5;28mself\u001b[39m\u001b[38;5;241m.\u001b[39m_set_intercept(X_offset, y_offset, X_scale)\n\u001b[0;32m    688\u001b[0m \u001b[38;5;28;01mreturn\u001b[39;00m \u001b[38;5;28mself\u001b[39m\n",
      "File \u001b[1;32mC:\\Program Files\\Anaconda\\Lib\\site-packages\\sklearn\\linear_model\\_base.py:317\u001b[0m, in \u001b[0;36mLinearModel._set_intercept\u001b[1;34m(self, X_offset, y_offset, X_scale)\u001b[0m\n\u001b[0;32m    313\u001b[0m \u001b[38;5;28;01mif\u001b[39;00m \u001b[38;5;28mself\u001b[39m\u001b[38;5;241m.\u001b[39mfit_intercept:\n\u001b[0;32m    314\u001b[0m     \u001b[38;5;66;03m# We always want coef_.dtype=X.dtype. For instance, X.dtype can differ from\u001b[39;00m\n\u001b[0;32m    315\u001b[0m     \u001b[38;5;66;03m# coef_.dtype if warm_start=True.\u001b[39;00m\n\u001b[0;32m    316\u001b[0m     coef_ \u001b[38;5;241m=\u001b[39m xp\u001b[38;5;241m.\u001b[39mastype(\u001b[38;5;28mself\u001b[39m\u001b[38;5;241m.\u001b[39mcoef_, X_scale\u001b[38;5;241m.\u001b[39mdtype, copy\u001b[38;5;241m=\u001b[39m\u001b[38;5;28;01mFalse\u001b[39;00m)\n\u001b[1;32m--> 317\u001b[0m     coef_ \u001b[38;5;241m=\u001b[39m \u001b[38;5;28mself\u001b[39m\u001b[38;5;241m.\u001b[39mcoef_ \u001b[38;5;241m=\u001b[39m xp\u001b[38;5;241m.\u001b[39mdivide(coef_, X_scale)\n\u001b[0;32m    319\u001b[0m     \u001b[38;5;28;01mif\u001b[39;00m coef_\u001b[38;5;241m.\u001b[39mndim \u001b[38;5;241m==\u001b[39m \u001b[38;5;241m1\u001b[39m:\n\u001b[0;32m    320\u001b[0m         intercept_ \u001b[38;5;241m=\u001b[39m y_offset \u001b[38;5;241m-\u001b[39m X_offset \u001b[38;5;241m@\u001b[39m coef_\n",
      "\u001b[1;31mKeyboardInterrupt\u001b[0m: "
     ]
    }
   ],
   "source": [
    "poly = PolynomialFeatures(degree=2, include_bias=False)\n",
    "poly_features = poly.fit_transform(X_sc)\n",
    "\n",
    "poly_reg_model = LinearRegression()\n",
    "poly_reg_model.fit(poly_features, Y_)\n",
    "\n",
    "y_predicted = poly_reg_model.predict(poly_features)\n",
    "\n",
    "# Calculate R-squared\n",
    "r_squared = r2_score(Y_, y_predicted)\n",
    "print(f\"R-squared: {r_squared:.2f}\")"
   ]
  },
  {
   "cell_type": "code",
   "execution_count": null,
   "id": "bf35454f",
   "metadata": {},
   "outputs": [],
   "source": [
    "poly = PolynomialFeatures(degree=5, include_bias=False)\n",
    "poly_features = poly.fit_transform(X_sc)\n",
    "\n",
    "poly_reg_model = LinearRegression()\n",
    "poly_reg_model.fit(poly_features, Y_)\n",
    "poly.fit(X_sc,Y_)\n",
    "\n",
    "y_predicted = poly_reg_model.predict(poly_features)\n",
    "\n",
    "# Calculate R-squared\n",
    "r_squared = r2_score(Y_, y_predicted)\n",
    "print(f\"R-squared: {r_squared:.2f}\")"
   ]
  },
  {
   "cell_type": "code",
   "execution_count": null,
   "id": "cf494f66",
   "metadata": {},
   "outputs": [],
   "source": [
    "Input=[('scale',StandardScaler()), ('polynomial', PolynomialFeatures(include_bias=False)), ('model', LinearRegression())]\n",
    "pipe=Pipeline(Input)\n",
    "X_sc = X_sc.astype(float)\n",
    "pipe.fit(X_sc,Y_)\n",
    "ypipe=pipe.predict(X_sc)\n",
    "print(r2_score(Y,ypipe))"
   ]
  },
  {
   "cell_type": "markdown",
   "id": "8d7b9786",
   "metadata": {},
   "source": [
    "# Aufgabe 4: Modellbuilding"
   ]
  },
  {
   "cell_type": "markdown",
   "id": "c87bc1dd",
   "metadata": {},
   "source": [
    "## Modell 1: Logistic Regression"
   ]
  },
  {
   "cell_type": "code",
   "execution_count": 125,
   "id": "f6f9d310",
   "metadata": {},
   "outputs": [
    {
     "name": "stdout",
     "output_type": "stream",
     "text": [
      "              precision    recall  f1-score   support\n",
      "\n",
      "       False       0.97      1.00      0.98    246247\n",
      "        True       0.00      0.00      0.00      8058\n",
      "\n",
      "    accuracy                           0.97    254305\n",
      "   macro avg       0.48      0.50      0.49    254305\n",
      "weighted avg       0.94      0.97      0.95    254305\n",
      "\n"
     ]
    },
    {
     "name": "stderr",
     "output_type": "stream",
     "text": [
      "C:\\Program Files\\Anaconda\\Lib\\site-packages\\sklearn\\metrics\\_classification.py:1517: UndefinedMetricWarning: Precision is ill-defined and being set to 0.0 due to no predicted samples. Use `zero_division` parameter to control this behavior.\n",
      "  _warn_prf(average, modifier, f\"{metric.capitalize()} is\", len(result))\n",
      "C:\\Program Files\\Anaconda\\Lib\\site-packages\\sklearn\\metrics\\_classification.py:1517: UndefinedMetricWarning: Precision is ill-defined and being set to 0.0 in labels with no predicted samples. Use `zero_division` parameter to control this behavior.\n",
      "  _warn_prf(average, modifier, f\"{metric.capitalize()} is\", len(result))\n",
      "C:\\Program Files\\Anaconda\\Lib\\site-packages\\sklearn\\metrics\\_classification.py:1517: UndefinedMetricWarning: Precision is ill-defined and being set to 0.0 in labels with no predicted samples. Use `zero_division` parameter to control this behavior.\n",
      "  _warn_prf(average, modifier, f\"{metric.capitalize()} is\", len(result))\n",
      "C:\\Program Files\\Anaconda\\Lib\\site-packages\\sklearn\\metrics\\_classification.py:1517: UndefinedMetricWarning: Precision is ill-defined and being set to 0.0 in labels with no predicted samples. Use `zero_division` parameter to control this behavior.\n",
      "  _warn_prf(average, modifier, f\"{metric.capitalize()} is\", len(result))\n"
     ]
    }
   ],
   "source": [
    "#Split into test and training set\n",
    "X_train, X_test, y_train, y_test = train_test_split(X_logi_,Y_logi, test_size=0.5, random_state=42)\n",
    "\n",
    "# Logistische Regression Modell instanziieren und trainieren\n",
    "model = LogisticRegression()\n",
    "model.fit(X_train, y_train)\n",
    "\n",
    "from sklearn.metrics import precision_score\n",
    "# Vorhersagen auf dem Testset machen\n",
    "predictions = model.predict(X_test)\n",
    "precision = precision_score(y_test, predictions, average='binary')\n",
    "# Leistungsbericht ausgeben\n",
    "print(classification_report(y_test, predictions))\n",
    "\n",
    "\n",
    "\n"
   ]
  },
  {
   "cell_type": "markdown",
   "id": "9b12d38d",
   "metadata": {},
   "source": [
    "Sehr schlecht bei der Vorhersage von positiven Werten; <br>\n",
    "Möglicherweise liegt das Problem im unbalanced data set; <br>\n",
    "Es kommen keine TRUE Werte raus\n"
   ]
  },
  {
   "cell_type": "markdown",
   "id": "8c42a5f5",
   "metadata": {},
   "source": [
    "Ich habe hier das erste Teilmodelle anpassen: es ist ein Ein Klassifikator, der auf allen unseren Daten trainiert und getestet wird.\n",
    "\n",
    "Im zweiten Teilmodell wird ein Regressor auf echte positive Proben trainiert "
   ]
  },
  {
   "cell_type": "code",
   "execution_count": 126,
   "id": "0e89cfc6",
   "metadata": {},
   "outputs": [
    {
     "data": {
      "text/plain": [
       "array([False, False, False, ..., False, False, False])"
      ]
     },
     "execution_count": 126,
     "metadata": {},
     "output_type": "execute_result"
    }
   ],
   "source": []
  },
  {
   "cell_type": "markdown",
   "id": "055a8338",
   "metadata": {},
   "source": [
    "## Modell 2"
   ]
  },
  {
   "cell_type": "markdown",
   "id": "00e41690",
   "metadata": {},
   "source": [
    "## Split into Test and Trainingset"
   ]
  },
  {
   "cell_type": "code",
   "execution_count": 114,
   "id": "e1c5af48-58d1-4662-8109-eee4dca50fb4",
   "metadata": {},
   "outputs": [
    {
     "name": "stdout",
     "output_type": "stream",
     "text": [
      "Training data set length=12828\n",
      "Testing data set length=3207\n"
     ]
    }
   ],
   "source": [
    "x_train, x_test, y_train, y_test = train_test_split(X_reg_, Y_reg, test_size = 0.2, random_state = 42)\n",
    "print('Training data set length='+str(len(x_train)))\n",
    "print('Testing data set length='+str(len(x_test)))"
   ]
  },
  {
   "cell_type": "code",
   "execution_count": 115,
   "id": "9fb39b87",
   "metadata": {},
   "outputs": [
    {
     "name": "stdout",
     "output_type": "stream",
     "text": [
      "Der R^2-Wert des Modells ist: 0.002355862198689773\n"
     ]
    }
   ],
   "source": [
    "lm = LinearRegression()\n",
    "lm.fit(x_train,y_train)\n",
    "y_pred = lm.predict(x_test)\n",
    "r2_score = lm.score(x_test, y_test)\n",
    "\n",
    "\n",
    "print(f'Der R^2-Wert des Modells ist: {r2_score}')"
   ]
  },
  {
   "cell_type": "code",
   "execution_count": 116,
   "id": "40377f31",
   "metadata": {},
   "outputs": [
    {
     "data": {
      "text/html": [
       "<div>\n",
       "<style scoped>\n",
       "    .dataframe tbody tr th:only-of-type {\n",
       "        vertical-align: middle;\n",
       "    }\n",
       "\n",
       "    .dataframe tbody tr th {\n",
       "        vertical-align: top;\n",
       "    }\n",
       "\n",
       "    .dataframe thead th {\n",
       "        text-align: right;\n",
       "    }\n",
       "</style>\n",
       "<table border=\"1\" class=\"dataframe\">\n",
       "  <thead>\n",
       "    <tr style=\"text-align: right;\">\n",
       "      <th></th>\n",
       "      <th>'B'</th>\n",
       "      <th>'C'</th>\n",
       "      <th>'D'</th>\n",
       "      <th>'E'</th>\n",
       "      <th>'F'</th>\n",
       "      <th>Regular</th>\n",
       "      <th>'B10'</th>\n",
       "      <th>'B11'</th>\n",
       "      <th>'B12'</th>\n",
       "      <th>'B13'</th>\n",
       "      <th>...</th>\n",
       "      <th>'R73'</th>\n",
       "      <th>'R74'</th>\n",
       "      <th>'R82'</th>\n",
       "      <th>'R83'</th>\n",
       "      <th>'R91'</th>\n",
       "      <th>'R93'</th>\n",
       "      <th>'R94'</th>\n",
       "      <th>DrivAge</th>\n",
       "      <th>BonusMalus</th>\n",
       "      <th>Density</th>\n",
       "    </tr>\n",
       "  </thead>\n",
       "  <tbody>\n",
       "    <tr>\n",
       "      <th>0</th>\n",
       "      <td>0</td>\n",
       "      <td>0</td>\n",
       "      <td>0</td>\n",
       "      <td>0</td>\n",
       "      <td>1</td>\n",
       "      <td>1</td>\n",
       "      <td>0</td>\n",
       "      <td>0</td>\n",
       "      <td>1</td>\n",
       "      <td>0</td>\n",
       "      <td>...</td>\n",
       "      <td>0</td>\n",
       "      <td>0</td>\n",
       "      <td>0</td>\n",
       "      <td>0</td>\n",
       "      <td>0</td>\n",
       "      <td>0</td>\n",
       "      <td>0</td>\n",
       "      <td>0.530864</td>\n",
       "      <td>0.000000</td>\n",
       "      <td>1.000000</td>\n",
       "    </tr>\n",
       "    <tr>\n",
       "      <th>1</th>\n",
       "      <td>1</td>\n",
       "      <td>0</td>\n",
       "      <td>0</td>\n",
       "      <td>0</td>\n",
       "      <td>0</td>\n",
       "      <td>0</td>\n",
       "      <td>0</td>\n",
       "      <td>0</td>\n",
       "      <td>1</td>\n",
       "      <td>0</td>\n",
       "      <td>...</td>\n",
       "      <td>0</td>\n",
       "      <td>0</td>\n",
       "      <td>0</td>\n",
       "      <td>0</td>\n",
       "      <td>0</td>\n",
       "      <td>0</td>\n",
       "      <td>0</td>\n",
       "      <td>0.395062</td>\n",
       "      <td>0.056180</td>\n",
       "      <td>0.002000</td>\n",
       "    </tr>\n",
       "    <tr>\n",
       "      <th>2</th>\n",
       "      <td>0</td>\n",
       "      <td>0</td>\n",
       "      <td>0</td>\n",
       "      <td>1</td>\n",
       "      <td>0</td>\n",
       "      <td>1</td>\n",
       "      <td>0</td>\n",
       "      <td>0</td>\n",
       "      <td>1</td>\n",
       "      <td>0</td>\n",
       "      <td>...</td>\n",
       "      <td>0</td>\n",
       "      <td>0</td>\n",
       "      <td>0</td>\n",
       "      <td>0</td>\n",
       "      <td>0</td>\n",
       "      <td>0</td>\n",
       "      <td>0</td>\n",
       "      <td>0.222222</td>\n",
       "      <td>0.196629</td>\n",
       "      <td>0.177421</td>\n",
       "    </tr>\n",
       "    <tr>\n",
       "      <th>3</th>\n",
       "      <td>0</td>\n",
       "      <td>0</td>\n",
       "      <td>0</td>\n",
       "      <td>0</td>\n",
       "      <td>1</td>\n",
       "      <td>1</td>\n",
       "      <td>0</td>\n",
       "      <td>0</td>\n",
       "      <td>1</td>\n",
       "      <td>0</td>\n",
       "      <td>...</td>\n",
       "      <td>0</td>\n",
       "      <td>0</td>\n",
       "      <td>0</td>\n",
       "      <td>0</td>\n",
       "      <td>0</td>\n",
       "      <td>0</td>\n",
       "      <td>0</td>\n",
       "      <td>0.407407</td>\n",
       "      <td>0.280899</td>\n",
       "      <td>1.000000</td>\n",
       "    </tr>\n",
       "    <tr>\n",
       "      <th>4</th>\n",
       "      <td>0</td>\n",
       "      <td>0</td>\n",
       "      <td>0</td>\n",
       "      <td>0</td>\n",
       "      <td>0</td>\n",
       "      <td>1</td>\n",
       "      <td>0</td>\n",
       "      <td>0</td>\n",
       "      <td>1</td>\n",
       "      <td>0</td>\n",
       "      <td>...</td>\n",
       "      <td>1</td>\n",
       "      <td>0</td>\n",
       "      <td>0</td>\n",
       "      <td>0</td>\n",
       "      <td>0</td>\n",
       "      <td>0</td>\n",
       "      <td>0</td>\n",
       "      <td>0.333333</td>\n",
       "      <td>0.000000</td>\n",
       "      <td>0.000370</td>\n",
       "    </tr>\n",
       "    <tr>\n",
       "      <th>...</th>\n",
       "      <td>...</td>\n",
       "      <td>...</td>\n",
       "      <td>...</td>\n",
       "      <td>...</td>\n",
       "      <td>...</td>\n",
       "      <td>...</td>\n",
       "      <td>...</td>\n",
       "      <td>...</td>\n",
       "      <td>...</td>\n",
       "      <td>...</td>\n",
       "      <td>...</td>\n",
       "      <td>...</td>\n",
       "      <td>...</td>\n",
       "      <td>...</td>\n",
       "      <td>...</td>\n",
       "      <td>...</td>\n",
       "      <td>...</td>\n",
       "      <td>...</td>\n",
       "      <td>...</td>\n",
       "      <td>...</td>\n",
       "      <td>...</td>\n",
       "    </tr>\n",
       "    <tr>\n",
       "      <th>16030</th>\n",
       "      <td>0</td>\n",
       "      <td>1</td>\n",
       "      <td>0</td>\n",
       "      <td>0</td>\n",
       "      <td>0</td>\n",
       "      <td>0</td>\n",
       "      <td>0</td>\n",
       "      <td>0</td>\n",
       "      <td>1</td>\n",
       "      <td>0</td>\n",
       "      <td>...</td>\n",
       "      <td>0</td>\n",
       "      <td>0</td>\n",
       "      <td>1</td>\n",
       "      <td>0</td>\n",
       "      <td>0</td>\n",
       "      <td>0</td>\n",
       "      <td>0</td>\n",
       "      <td>0.098765</td>\n",
       "      <td>0.056180</td>\n",
       "      <td>0.011445</td>\n",
       "    </tr>\n",
       "    <tr>\n",
       "      <th>16031</th>\n",
       "      <td>0</td>\n",
       "      <td>1</td>\n",
       "      <td>0</td>\n",
       "      <td>0</td>\n",
       "      <td>0</td>\n",
       "      <td>0</td>\n",
       "      <td>0</td>\n",
       "      <td>0</td>\n",
       "      <td>1</td>\n",
       "      <td>0</td>\n",
       "      <td>...</td>\n",
       "      <td>0</td>\n",
       "      <td>0</td>\n",
       "      <td>0</td>\n",
       "      <td>0</td>\n",
       "      <td>0</td>\n",
       "      <td>0</td>\n",
       "      <td>0</td>\n",
       "      <td>0.407407</td>\n",
       "      <td>0.000000</td>\n",
       "      <td>0.006519</td>\n",
       "    </tr>\n",
       "    <tr>\n",
       "      <th>16032</th>\n",
       "      <td>0</td>\n",
       "      <td>0</td>\n",
       "      <td>1</td>\n",
       "      <td>0</td>\n",
       "      <td>0</td>\n",
       "      <td>1</td>\n",
       "      <td>0</td>\n",
       "      <td>0</td>\n",
       "      <td>1</td>\n",
       "      <td>0</td>\n",
       "      <td>...</td>\n",
       "      <td>0</td>\n",
       "      <td>0</td>\n",
       "      <td>1</td>\n",
       "      <td>0</td>\n",
       "      <td>0</td>\n",
       "      <td>0</td>\n",
       "      <td>0</td>\n",
       "      <td>0.209877</td>\n",
       "      <td>0.005618</td>\n",
       "      <td>0.063597</td>\n",
       "    </tr>\n",
       "    <tr>\n",
       "      <th>16033</th>\n",
       "      <td>0</td>\n",
       "      <td>1</td>\n",
       "      <td>0</td>\n",
       "      <td>0</td>\n",
       "      <td>0</td>\n",
       "      <td>1</td>\n",
       "      <td>0</td>\n",
       "      <td>0</td>\n",
       "      <td>1</td>\n",
       "      <td>0</td>\n",
       "      <td>...</td>\n",
       "      <td>0</td>\n",
       "      <td>0</td>\n",
       "      <td>0</td>\n",
       "      <td>0</td>\n",
       "      <td>0</td>\n",
       "      <td>0</td>\n",
       "      <td>0</td>\n",
       "      <td>0.222222</td>\n",
       "      <td>0.000000</td>\n",
       "      <td>0.006630</td>\n",
       "    </tr>\n",
       "    <tr>\n",
       "      <th>16034</th>\n",
       "      <td>0</td>\n",
       "      <td>0</td>\n",
       "      <td>1</td>\n",
       "      <td>0</td>\n",
       "      <td>0</td>\n",
       "      <td>1</td>\n",
       "      <td>0</td>\n",
       "      <td>0</td>\n",
       "      <td>0</td>\n",
       "      <td>0</td>\n",
       "      <td>...</td>\n",
       "      <td>0</td>\n",
       "      <td>0</td>\n",
       "      <td>0</td>\n",
       "      <td>0</td>\n",
       "      <td>0</td>\n",
       "      <td>0</td>\n",
       "      <td>0</td>\n",
       "      <td>0.259259</td>\n",
       "      <td>0.000000</td>\n",
       "      <td>0.030299</td>\n",
       "    </tr>\n",
       "  </tbody>\n",
       "</table>\n",
       "<p>16035 rows × 40 columns</p>\n",
       "</div>"
      ],
      "text/plain": [
       "       'B'  'C'  'D'  'E'  'F'  Regular  'B10'  'B11'  'B12'  'B13'  ...  \\\n",
       "0        0    0    0    0    1        1      0      0      1      0  ...   \n",
       "1        1    0    0    0    0        0      0      0      1      0  ...   \n",
       "2        0    0    0    1    0        1      0      0      1      0  ...   \n",
       "3        0    0    0    0    1        1      0      0      1      0  ...   \n",
       "4        0    0    0    0    0        1      0      0      1      0  ...   \n",
       "...    ...  ...  ...  ...  ...      ...    ...    ...    ...    ...  ...   \n",
       "16030    0    1    0    0    0        0      0      0      1      0  ...   \n",
       "16031    0    1    0    0    0        0      0      0      1      0  ...   \n",
       "16032    0    0    1    0    0        1      0      0      1      0  ...   \n",
       "16033    0    1    0    0    0        1      0      0      1      0  ...   \n",
       "16034    0    0    1    0    0        1      0      0      0      0  ...   \n",
       "\n",
       "       'R73'  'R74'  'R82'  'R83'  'R91'  'R93'  'R94'   DrivAge  BonusMalus  \\\n",
       "0          0      0      0      0      0      0      0  0.530864    0.000000   \n",
       "1          0      0      0      0      0      0      0  0.395062    0.056180   \n",
       "2          0      0      0      0      0      0      0  0.222222    0.196629   \n",
       "3          0      0      0      0      0      0      0  0.407407    0.280899   \n",
       "4          1      0      0      0      0      0      0  0.333333    0.000000   \n",
       "...      ...    ...    ...    ...    ...    ...    ...       ...         ...   \n",
       "16030      0      0      1      0      0      0      0  0.098765    0.056180   \n",
       "16031      0      0      0      0      0      0      0  0.407407    0.000000   \n",
       "16032      0      0      1      0      0      0      0  0.209877    0.005618   \n",
       "16033      0      0      0      0      0      0      0  0.222222    0.000000   \n",
       "16034      0      0      0      0      0      0      0  0.259259    0.000000   \n",
       "\n",
       "        Density  \n",
       "0      1.000000  \n",
       "1      0.002000  \n",
       "2      0.177421  \n",
       "3      1.000000  \n",
       "4      0.000370  \n",
       "...         ...  \n",
       "16030  0.011445  \n",
       "16031  0.006519  \n",
       "16032  0.063597  \n",
       "16033  0.006630  \n",
       "16034  0.030299  \n",
       "\n",
       "[16035 rows x 40 columns]"
      ]
     },
     "execution_count": 116,
     "metadata": {},
     "output_type": "execute_result"
    }
   ],
   "source": [
    "X_reg_"
   ]
  },
  {
   "cell_type": "code",
   "execution_count": 117,
   "id": "6c5da5bc",
   "metadata": {},
   "outputs": [
    {
     "name": "stderr",
     "output_type": "stream",
     "text": [
      "C:\\Program Files\\Anaconda\\Lib\\site-packages\\scipy\\optimize\\_optimize.py:1292: OptimizeWarning: Maximum number of iterations has been exceeded.\n",
      "  res = _minimize_bfgs(f, x0, args, fprime, callback=callback, **opts)\n"
     ]
    },
    {
     "name": "stdout",
     "output_type": "stream",
     "text": [
      "         Current function value: 1.604003\n",
      "         Iterations: 100\n",
      "         Function evaluations: 102\n",
      "         Gradient evaluations: 102\n"
     ]
    },
    {
     "name": "stderr",
     "output_type": "stream",
     "text": [
      "C:\\Program Files\\Anaconda\\Lib\\site-packages\\statsmodels\\base\\model.py:607: ConvergenceWarning: Maximum Likelihood optimization failed to converge. Check mle_retvals\n",
      "  warnings.warn(\"Maximum Likelihood optimization failed to \"\n"
     ]
    }
   ],
   "source": [
    "mod = OrderedModel(y_train,x_train,distr='logit')                                    \n",
    "\n",
    "res = mod.fit(method='bfgs', start_params=None, maxiter=100, full_output=True, disp=True)\n",
    "\n",
    "y_pred = res.predict(x_test)\n"
   ]
  },
  {
   "cell_type": "code",
   "execution_count": 122,
   "id": "9ab69620",
   "metadata": {},
   "outputs": [
    {
     "data": {
      "text/html": [
       "<div>\n",
       "<style scoped>\n",
       "    .dataframe tbody tr th:only-of-type {\n",
       "        vertical-align: middle;\n",
       "    }\n",
       "\n",
       "    .dataframe tbody tr th {\n",
       "        vertical-align: top;\n",
       "    }\n",
       "\n",
       "    .dataframe thead th {\n",
       "        text-align: right;\n",
       "    }\n",
       "</style>\n",
       "<table border=\"1\" class=\"dataframe\">\n",
       "  <thead>\n",
       "    <tr style=\"text-align: right;\">\n",
       "      <th></th>\n",
       "      <th>0</th>\n",
       "      <th>1</th>\n",
       "      <th>2</th>\n",
       "      <th>3</th>\n",
       "      <th>4</th>\n",
       "    </tr>\n",
       "  </thead>\n",
       "  <tbody>\n",
       "    <tr>\n",
       "      <th>10284</th>\n",
       "      <td>0.206935</td>\n",
       "      <td>0.203613</td>\n",
       "      <td>0.202686</td>\n",
       "      <td>0.195671</td>\n",
       "      <td>0.191095</td>\n",
       "    </tr>\n",
       "    <tr>\n",
       "      <th>10443</th>\n",
       "      <td>0.195274</td>\n",
       "      <td>0.197827</td>\n",
       "      <td>0.202780</td>\n",
       "      <td>0.201550</td>\n",
       "      <td>0.202569</td>\n",
       "    </tr>\n",
       "    <tr>\n",
       "      <th>123</th>\n",
       "      <td>0.235737</td>\n",
       "      <td>0.215817</td>\n",
       "      <td>0.200535</td>\n",
       "      <td>0.181352</td>\n",
       "      <td>0.166559</td>\n",
       "    </tr>\n",
       "    <tr>\n",
       "      <th>9896</th>\n",
       "      <td>0.206761</td>\n",
       "      <td>0.203530</td>\n",
       "      <td>0.202691</td>\n",
       "      <td>0.195758</td>\n",
       "      <td>0.191259</td>\n",
       "    </tr>\n",
       "    <tr>\n",
       "      <th>12701</th>\n",
       "      <td>0.224574</td>\n",
       "      <td>0.211427</td>\n",
       "      <td>0.201658</td>\n",
       "      <td>0.186850</td>\n",
       "      <td>0.175490</td>\n",
       "    </tr>\n",
       "  </tbody>\n",
       "</table>\n",
       "</div>"
      ],
      "text/plain": [
       "              0         1         2         3         4\n",
       "10284  0.206935  0.203613  0.202686  0.195671  0.191095\n",
       "10443  0.195274  0.197827  0.202780  0.201550  0.202569\n",
       "123    0.235737  0.215817  0.200535  0.181352  0.166559\n",
       "9896   0.206761  0.203530  0.202691  0.195758  0.191259\n",
       "12701  0.224574  0.211427  0.201658  0.186850  0.175490"
      ]
     },
     "execution_count": 122,
     "metadata": {},
     "output_type": "execute_result"
    }
   ],
   "source": [
    "y_pred.head()"
   ]
  },
  {
   "cell_type": "code",
   "execution_count": 124,
   "id": "d1dc16cb-f63e-4f4b-9beb-470fdf9df640",
   "metadata": {},
   "outputs": [
    {
     "data": {
      "text/html": [
       "<div>\n",
       "<style scoped>\n",
       "    .dataframe tbody tr th:only-of-type {\n",
       "        vertical-align: middle;\n",
       "    }\n",
       "\n",
       "    .dataframe tbody tr th {\n",
       "        vertical-align: top;\n",
       "    }\n",
       "\n",
       "    .dataframe thead th {\n",
       "        text-align: right;\n",
       "    }\n",
       "</style>\n",
       "<table border=\"1\" class=\"dataframe\">\n",
       "  <thead>\n",
       "    <tr style=\"text-align: right;\">\n",
       "      <th></th>\n",
       "      <th>0</th>\n",
       "      <th>1</th>\n",
       "      <th>2</th>\n",
       "      <th>3</th>\n",
       "      <th>4</th>\n",
       "    </tr>\n",
       "  </thead>\n",
       "  <tbody>\n",
       "    <tr>\n",
       "      <th>10284</th>\n",
       "      <td>0.206935</td>\n",
       "      <td>0.203613</td>\n",
       "      <td>0.202686</td>\n",
       "      <td>0.195671</td>\n",
       "      <td>0.191095</td>\n",
       "    </tr>\n",
       "    <tr>\n",
       "      <th>10443</th>\n",
       "      <td>0.195274</td>\n",
       "      <td>0.197827</td>\n",
       "      <td>0.202780</td>\n",
       "      <td>0.201550</td>\n",
       "      <td>0.202569</td>\n",
       "    </tr>\n",
       "    <tr>\n",
       "      <th>123</th>\n",
       "      <td>0.235737</td>\n",
       "      <td>0.215817</td>\n",
       "      <td>0.200535</td>\n",
       "      <td>0.181352</td>\n",
       "      <td>0.166559</td>\n",
       "    </tr>\n",
       "    <tr>\n",
       "      <th>9896</th>\n",
       "      <td>0.206761</td>\n",
       "      <td>0.203530</td>\n",
       "      <td>0.202691</td>\n",
       "      <td>0.195758</td>\n",
       "      <td>0.191259</td>\n",
       "    </tr>\n",
       "    <tr>\n",
       "      <th>12701</th>\n",
       "      <td>0.224574</td>\n",
       "      <td>0.211427</td>\n",
       "      <td>0.201658</td>\n",
       "      <td>0.186850</td>\n",
       "      <td>0.175490</td>\n",
       "    </tr>\n",
       "    <tr>\n",
       "      <th>...</th>\n",
       "      <td>...</td>\n",
       "      <td>...</td>\n",
       "      <td>...</td>\n",
       "      <td>...</td>\n",
       "      <td>...</td>\n",
       "    </tr>\n",
       "    <tr>\n",
       "      <th>11378</th>\n",
       "      <td>0.177347</td>\n",
       "      <td>0.187908</td>\n",
       "      <td>0.201838</td>\n",
       "      <td>0.210550</td>\n",
       "      <td>0.222357</td>\n",
       "    </tr>\n",
       "    <tr>\n",
       "      <th>9015</th>\n",
       "      <td>0.198701</td>\n",
       "      <td>0.199580</td>\n",
       "      <td>0.202806</td>\n",
       "      <td>0.199821</td>\n",
       "      <td>0.199092</td>\n",
       "    </tr>\n",
       "    <tr>\n",
       "      <th>14699</th>\n",
       "      <td>0.192056</td>\n",
       "      <td>0.196139</td>\n",
       "      <td>0.202713</td>\n",
       "      <td>0.203173</td>\n",
       "      <td>0.205919</td>\n",
       "    </tr>\n",
       "    <tr>\n",
       "      <th>185</th>\n",
       "      <td>0.253613</td>\n",
       "      <td>0.221997</td>\n",
       "      <td>0.198095</td>\n",
       "      <td>0.172738</td>\n",
       "      <td>0.153557</td>\n",
       "    </tr>\n",
       "    <tr>\n",
       "      <th>15838</th>\n",
       "      <td>0.236813</td>\n",
       "      <td>0.216218</td>\n",
       "      <td>0.200409</td>\n",
       "      <td>0.180827</td>\n",
       "      <td>0.165732</td>\n",
       "    </tr>\n",
       "  </tbody>\n",
       "</table>\n",
       "<p>3207 rows × 5 columns</p>\n",
       "</div>"
      ],
      "text/plain": [
       "              0         1         2         3         4\n",
       "10284  0.206935  0.203613  0.202686  0.195671  0.191095\n",
       "10443  0.195274  0.197827  0.202780  0.201550  0.202569\n",
       "123    0.235737  0.215817  0.200535  0.181352  0.166559\n",
       "9896   0.206761  0.203530  0.202691  0.195758  0.191259\n",
       "12701  0.224574  0.211427  0.201658  0.186850  0.175490\n",
       "...         ...       ...       ...       ...       ...\n",
       "11378  0.177347  0.187908  0.201838  0.210550  0.222357\n",
       "9015   0.198701  0.199580  0.202806  0.199821  0.199092\n",
       "14699  0.192056  0.196139  0.202713  0.203173  0.205919\n",
       "185    0.253613  0.221997  0.198095  0.172738  0.153557\n",
       "15838  0.236813  0.216218  0.200409  0.180827  0.165732\n",
       "\n",
       "[3207 rows x 5 columns]"
      ]
     },
     "execution_count": 124,
     "metadata": {},
     "output_type": "execute_result"
    }
   ],
   "source": [
    "y_pred"
   ]
  },
  {
   "cell_type": "code",
   "execution_count": null,
   "id": "c5fb7300-c1e2-47c2-887a-511a91414cd8",
   "metadata": {},
   "outputs": [],
   "source": []
  }
 ],
 "metadata": {
  "kernelspec": {
   "display_name": "Python 3 (ipykernel)",
   "language": "python",
   "name": "python3"
  },
  "language_info": {
   "codemirror_mode": {
    "name": "ipython",
    "version": 3
   },
   "file_extension": ".py",
   "mimetype": "text/x-python",
   "name": "python",
   "nbconvert_exporter": "python",
   "pygments_lexer": "ipython3",
   "version": "3.11.5"
  }
 },
 "nbformat": 4,
 "nbformat_minor": 5
}
